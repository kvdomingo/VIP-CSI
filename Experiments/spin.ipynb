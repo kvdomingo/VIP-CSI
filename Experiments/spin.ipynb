{
 "cells": [
  {
   "cell_type": "code",
   "execution_count": 1,
   "metadata": {
    "collapsed": true
   },
   "outputs": [],
   "source": [
    "import pyspin\n",
    "from pyspin import PySpin"
   ]
  },
  {
   "cell_type": "code",
   "execution_count": 11,
   "metadata": {},
   "outputs": [
    {
     "ename": "SpinnakerException",
     "evalue": "Spinnaker: Camera is already streaming [-1004]",
     "output_type": "error",
     "traceback": [
      "\u001b[1;31m---------------------------------------------------------------------------\u001b[0m",
      "\u001b[1;31mSpinnakerException\u001b[0m                        Traceback (most recent call last)",
      "\u001b[1;32m<ipython-input-11-dd4153ed43c8>\u001b[0m in \u001b[0;36m<module>\u001b[1;34m()\u001b[0m\n\u001b[0;32m     15\u001b[0m \u001b[1;33m\u001b[0m\u001b[0m\n\u001b[0;32m     16\u001b[0m \u001b[1;31m# Start acquisition\u001b[0m\u001b[1;33m\u001b[0m\u001b[1;33m\u001b[0m\u001b[0m\n\u001b[1;32m---> 17\u001b[1;33m \u001b[0mcam\u001b[0m\u001b[1;33m.\u001b[0m\u001b[0mBeginAcquisition\u001b[0m\u001b[1;33m(\u001b[0m\u001b[1;33m)\u001b[0m\u001b[1;33m\u001b[0m\u001b[0m\n\u001b[0m\u001b[0;32m     18\u001b[0m \u001b[1;33m\u001b[0m\u001b[0m\n\u001b[0;32m     19\u001b[0m \u001b[1;31m# Acquire images\u001b[0m\u001b[1;33m\u001b[0m\u001b[1;33m\u001b[0m\u001b[0m\n",
      "\u001b[1;32mC:\\ProgramData\\Anaconda3\\lib\\site-packages\\pyspin\\PySpin.py\u001b[0m in \u001b[0;36mBeginAcquisition\u001b[1;34m(self)\u001b[0m\n\u001b[0;32m  45393\u001b[0m         \u001b[0mSee\u001b[0m\u001b[1;33m:\u001b[0m   \u001b[0mInit\u001b[0m\u001b[1;33m(\u001b[0m\u001b[1;33m)\u001b[0m\u001b[1;33m\u001b[0m\u001b[0m\n\u001b[0;32m  45394\u001b[0m         \"\"\"\n\u001b[1;32m> 45395\u001b[1;33m         \u001b[1;32mreturn\u001b[0m \u001b[0m_PySpin\u001b[0m\u001b[1;33m.\u001b[0m\u001b[0m_SWIG_CamPtr_BeginAcquisition\u001b[0m\u001b[1;33m(\u001b[0m\u001b[0mself\u001b[0m\u001b[1;33m)\u001b[0m\u001b[1;33m\u001b[0m\u001b[0m\n\u001b[0m\u001b[0;32m  45396\u001b[0m \u001b[1;33m\u001b[0m\u001b[0m\n\u001b[0;32m  45397\u001b[0m \u001b[1;33m\u001b[0m\u001b[0m\n",
      "\u001b[1;31mSpinnakerException\u001b[0m: Spinnaker: Camera is already streaming [-1004]"
     ]
    }
   ],
   "source": [
    "# Get system\n",
    "system = PySpin.System.GetInstance()\n",
    "\n",
    "# Get camera list\n",
    "cam_list = system.GetCameras()\n",
    "\n",
    "# Figure out which is primary and secondary (usually webcam is primary and Flea3 is secondary)\n",
    "cam = cam_list.GetByIndex(0)\n",
    "\n",
    "# Initialize camera\n",
    "cam.Init()\n",
    "\n",
    "# Set acquisition mode\n",
    "cam.AcquisitionMode.SetValue(PySpin.AcquisitionMode_SingleFrame)\n",
    "\n",
    "# Start acquisition\n",
    "cam.BeginAcquisition()\n",
    "\n",
    "# Acquire images\n",
    "image_primary = cam.GetNextImage()\n",
    "width = image_primary.GetWidth()\n",
    "height = image_primary.GetHeight()\n",
    "print(\"width: \" + str(width) + \", height: \" + str(height))\n",
    "\n",
    "# Save images\n",
    "image_primary.Save('prime.jpg')\n",
    "\n",
    "# Stop acquisition\n",
    "cam.EndAcquisition()\n",
    "\n",
    "# De-initialize\n",
    "cam.DeInit()\n",
    "\n",
    "# Clear references to images and cameras\n",
    "del image_primary\n",
    "del cam\n",
    "del cam_list\n"
   ]
  },
  {
   "cell_type": "code",
   "execution_count": null,
   "metadata": {
    "collapsed": true
   },
   "outputs": [],
   "source": []
  }
 ],
 "metadata": {
  "kernelspec": {
   "display_name": "Python 3",
   "language": "python",
   "name": "python3"
  },
  "language_info": {
   "codemirror_mode": {
    "name": "ipython",
    "version": 3
   },
   "file_extension": ".py",
   "mimetype": "text/x-python",
   "name": "python",
   "nbconvert_exporter": "python",
   "pygments_lexer": "ipython3",
   "version": "3.6.1"
  }
 },
 "nbformat": 4,
 "nbformat_minor": 2
}
