{
 "cells": [
  {
   "cell_type": "markdown",
   "metadata": {},
   "source": [
    "# Associative memory via sparse recovery"
   ]
  },
  {
   "cell_type": "code",
   "execution_count": 56,
   "metadata": {
    "ExecuteTime": {
     "end_time": "2019-11-04T13:14:03.518970Z",
     "start_time": "2019-11-04T13:14:03.091671Z"
    }
   },
   "outputs": [],
   "source": [
    "import numpy as np\n",
    "import numpy.linalg as la\n",
    "import numpy.random as rand\n",
    "import scipy.fftpack as fft\n",
    "import scipy.stats as stat\n",
    "import matplotlib.pyplot as plt\n",
    "import cv2 as cv\n",
    "import warnings as warn\n",
    "from keras import backend as K\n",
    "from keras import activations, constraints, regularizers, initializers\n",
    "from keras.engine.base_layer import InputSpec, Layer\n",
    "from keras.legacy import interfaces\n",
    "from keras.datasets import mnist\n",
    "from tqdm import tnrange, tqdm_notebook as tqdm\n",
    "from jupyterthemes import jtplot"
   ]
  },
  {
   "cell_type": "code",
   "execution_count": 14,
   "metadata": {
    "ExecuteTime": {
     "end_time": "2019-11-04T12:59:40.322398Z",
     "start_time": "2019-11-04T12:59:40.315399Z"
    }
   },
   "outputs": [],
   "source": [
    "jtplot.reset()\n",
    "plt.style.use(\"bmh\")\n",
    "plt.rcParams[\"axes.axisbelow\"] = True\n",
    "plt.rcParams[\"text.usetex\"] = True\n",
    "plt.rcParams[\"font.family\"] = \"serif\"\n",
    "plt.rcParams[\"figure.figsize\"] = (5, 5)\n",
    "plt.rcParams[\"figure.dpi\"] = 100\n",
    "plt.rcParams[\"text.latex.preamble\"] = [r\"\\usepackage{physics}\"]"
   ]
  },
  {
   "cell_type": "code",
   "execution_count": 43,
   "metadata": {
    "ExecuteTime": {
     "end_time": "2019-11-04T13:08:36.080987Z",
     "start_time": "2019-11-04T13:08:36.073988Z"
    }
   },
   "outputs": [],
   "source": [
    "def shannonEntropy2D(img, base=2):       \n",
    "    img_grad = np.asarray(np.gradient(img)).T\n",
    "    img_grad /= img_grad.max()\n",
    "    img_grad = np.uint8(img_grad * 255)\n",
    "    hist = np.squeeze(cv.calcHist([img_grad], [0, 1], None, [256, 256], [0, 256, 0, 256]))/img_grad.size\n",
    "    with warn.catch_warnings():\n",
    "        warn.simplefilter('ignore')\n",
    "        if base == 2:\n",
    "            log = np.log2\n",
    "        elif base == 10:\n",
    "            log = np.log10\n",
    "        elif base == 'e':\n",
    "            log = np.log\n",
    "        H = -1/2 * np.nansum(hist*log(hist))\n",
    "    return H"
   ]
  },
  {
   "cell_type": "code",
   "execution_count": 3,
   "metadata": {
    "ExecuteTime": {
     "end_time": "2019-11-04T10:39:37.877468Z",
     "start_time": "2019-11-04T10:39:37.861465Z"
    }
   },
   "outputs": [],
   "source": [
    "class Bipartite(Layer):\n",
    "    @interfaces.legacy_dense_support\n",
    "    def __init__(self, units,\n",
    "                 activation=None,\n",
    "                 use_bias=True,\n",
    "                 kernel_initializer='glorot_uniform',\n",
    "                 bias_initializer='zeros',\n",
    "                 kernel_regularizer=None,\n",
    "                 bias_regularizer=None,\n",
    "                 activity_regularizer=None,\n",
    "                 kernel_constraint=None,\n",
    "                 bias_constraint=None,\n",
    "                 **kwargs):\n",
    "        if 'input_shape' not in kwargs and 'input_dim' in kwargs:\n",
    "            kwargs['input_shape'] = (kwargs.pop('input_dim'),)\n",
    "        super(Bipartite, self).__init__(**kwargs)\n",
    "        self.units = units\n",
    "        self.activation = activations.get(activation)\n",
    "        self.use_bias = use_bias\n",
    "        self.kernel_initializer = initializers.get(kernel_initializer)\n",
    "        self.bias_initializer = initializers.get(bias_initializer)\n",
    "        self.kernel_regularizer = regularizers.get(kernel_regularizer)\n",
    "        self.bias_regularizer = regularizers.get(bias_regularizer)\n",
    "        self.activity_regularizer = regularizers.get(activity_regularizer)\n",
    "        self.kernel_constraint = constraints.get(kernel_constraint)\n",
    "        self.bias_constraint = constraints.get(bias_constraint)\n",
    "        self.input_spec = InputSpec(min_ndim=2)\n",
    "        self.supports_masking = True\n",
    "\n",
    "    def build(self, input_shape):\n",
    "        assert len(input_shape) >= 2\n",
    "        input_dim = input_shape[-1]\n",
    "\n",
    "        self.kernel = self.add_weight(shape=(input_dim, self.units),\n",
    "                                      initializer=self.kernel_initializer,\n",
    "                                      name='kernel',\n",
    "                                      regularizer=self.kernel_regularizer,\n",
    "                                      constraint=self.kernel_constraint)\n",
    "        if self.use_bias:\n",
    "            self.bias = self.add_weight(shape=(self.units,),\n",
    "                                        initializer=self.bias_initializer,\n",
    "                                        name='bias',\n",
    "                                        regularizer=self.bias_regularizer,\n",
    "                                        constraint=self.bias_constraint)\n",
    "        else:\n",
    "            self.bias = None\n",
    "        self.input_spec = InputSpec(min_ndim=2, axes={-1: input_dim})\n",
    "        self.built = True\n",
    "\n",
    "    def call(self, inputs):\n",
    "        output = K.dot(inputs, self.kernel)\n",
    "        if self.use_bias:\n",
    "            output = K.bias_add(output, self.bias, data_format='channels_last')\n",
    "        if self.activation is not None:\n",
    "            output = self.activation(output)\n",
    "        return output\n",
    "\n",
    "    def compute_output_shape(self, input_shape):\n",
    "        assert input_shape and len(input_shape) >= 2\n",
    "        assert input_shape[-1]\n",
    "        output_shape = list(input_shape)\n",
    "        output_shape[-1] = self.units\n",
    "        return tuple(output_shape)\n",
    "\n",
    "    def get_config(self):\n",
    "        config = {\n",
    "            'units': self.units,\n",
    "            'activation': activations.serialize(self.activation),\n",
    "            'use_bias': self.use_bias,\n",
    "            'kernel_initializer': initializers.serialize(self.kernel_initializer),\n",
    "            'bias_initializer': initializers.serialize(self.bias_initializer),\n",
    "            'kernel_regularizer': regularizers.serialize(self.kernel_regularizer),\n",
    "            'bias_regularizer': regularizers.serialize(self.bias_regularizer),\n",
    "            'activity_regularizer':\n",
    "                regularizers.serialize(self.activity_regularizer),\n",
    "            'kernel_constraint': constraints.serialize(self.kernel_constraint),\n",
    "            'bias_constraint': constraints.serialize(self.bias_constraint)\n",
    "        }\n",
    "        base_config = super(Bipartite, self).get_config()\n",
    "        return dict(list(base_config.items()) + list(config.items()))"
   ]
  },
  {
   "cell_type": "code",
   "execution_count": 146,
   "metadata": {
    "ExecuteTime": {
     "end_time": "2019-11-04T13:45:33.144784Z",
     "start_time": "2019-11-04T13:45:33.127780Z"
    }
   },
   "outputs": [],
   "source": [
    "class Hopfield:\n",
    "    def __init__(self, units,\n",
    "                 epochs,\n",
    "                 activation='threshold',\n",
    "                 loss='energy',\n",
    "                 lr=0.01,\n",
    "                 eps=0.1,\n",
    "                 weight_initializer='random_uniform',\n",
    "                 random_seed=401,\n",
    "                 threshold=0):\n",
    "        rand.seed(random_seed)\n",
    "        self.units = units\n",
    "        self.epochs = epochs\n",
    "        self.activation = activation\n",
    "        self.loss = loss\n",
    "        self.lr = lr\n",
    "        self.eps = eps\n",
    "        self.weight_initializer = weight_initializer\n",
    "        self.threshold = threshold\n",
    "        \n",
    "        if self.weight_initializer == 'random_uniform':\n",
    "            self.W = rand.random((self.units, self.units))\n",
    "        elif self.weight_initializer == 'random_normal':\n",
    "            self.W = rand.normal((0, 1, (self.units, self.units)))\n",
    "        else:\n",
    "            raise NotImplementedError\n",
    "\n",
    "        if self.activation == 'step':\n",
    "            self.g = lambda a: 1 if a >= 0 else -1\n",
    "        elif self.activation == 'threshold':\n",
    "            self.g = lambda a: np.outer(a, a)\n",
    "        elif self.activation == 'sigmoid':\n",
    "            self.g = lambda a: 1/(1 + np.exp(-a))\n",
    "        elif self.activation == 'softmax':\n",
    "            self.g = lambda a: np.exp(a)/np.sum(np.exp(a))\n",
    "        elif self.activation == 'tanh':\n",
    "            self.g = lambda a: np.tanh(a)\n",
    "        else:\n",
    "            raise NotImplementedError\n",
    "            \n",
    "        if self.loss == 'sse':\n",
    "            self.l = lambda y_true, y_pred: (y_true - y_pred)**2\n",
    "        elif self.loss == 'energy':\n",
    "            self.l = lambda s: -1/2 * s.dot(self.W).dot(s) + np.sum(s - self.threshold)\n",
    "        else:\n",
    "            raise NotImplementedError\n",
    "            \n",
    "    def train(self, X):\n",
    "        self.rho = np.sum([np.sum(x) for x in X])/(len(X)*self.units)\n",
    "        for count in tnrange(self.epochs, desc='Epoch'):\n",
    "            for x in X:\n",
    "                t = x - self.rho\n",
    "                dW = np.outer(t, t)\n",
    "                self.W += dW\n",
    "            self.W -= np.diag(np.diag(self.W))\n",
    "            self.W /= len(X)\n",
    "            \n",
    "    def predict(self, X, num_iter=20):\n",
    "        predicted = []\n",
    "        for i in tnrange(len(X), desc='Predict'):\n",
    "            predicted.append(self._run(X.copy(), num_iter))\n",
    "        self.predicted = np.asarray(predicted)\n",
    "        \n",
    "    def _run(self, init_s, num_iter):\n",
    "        s = init_s\n",
    "        e = self.l(s)\n",
    "        for i in range(num_iter):\n",
    "            for j in range(100):\n",
    "                idx = rand.randint(self.units)\n",
    "                s[idx] = np.sign(self.W[idx].T.dot(s) - self.threshold)\n",
    "            e_new = self.l(s)\n",
    "            if e == e_new:\n",
    "                return s\n",
    "            e = e_new\n",
    "        return s"
   ]
  },
  {
   "cell_type": "code",
   "execution_count": 10,
   "metadata": {
    "ExecuteTime": {
     "end_time": "2019-11-04T12:58:51.205146Z",
     "start_time": "2019-11-04T12:58:50.376752Z"
    }
   },
   "outputs": [],
   "source": [
    "(x_train, y_train), (x_test, y_test) = mnist.load_data()"
   ]
  },
  {
   "cell_type": "code",
   "execution_count": 85,
   "metadata": {
    "ExecuteTime": {
     "end_time": "2019-11-04T13:23:49.779719Z",
     "start_time": "2019-11-04T13:23:48.232482Z"
    }
   },
   "outputs": [],
   "source": [
    "X = np.zeros((10, 28, 28))\n",
    "for i in range(10):\n",
    "    for j in range(len(x_train)):\n",
    "        if y_train[j] == i:\n",
    "            X[i] = x_train[j]\n",
    "            X[i][X[i] <= 127] = -1\n",
    "            X[i][X[i] > 127] = 1"
   ]
  },
  {
   "cell_type": "code",
   "execution_count": 86,
   "metadata": {
    "ExecuteTime": {
     "end_time": "2019-11-04T13:23:49.977785Z",
     "start_time": "2019-11-04T13:23:49.801484Z"
    }
   },
   "outputs": [
    {
     "data": {
      "image/png": "[encoded data removed]",
      "text/plain": [
       "<Figure size 500x500 with 1 Axes>"
      ]
     },
     "metadata": {},
     "output_type": "display_data"
    }
   ],
   "source": [
    "plt.imshow(X[9], 'gray')\n",
    "plt.grid(0)\n",
    "plt.show()"
   ]
  },
  {
   "cell_type": "code",
   "execution_count": 140,
   "metadata": {
    "ExecuteTime": {
     "end_time": "2019-11-04T13:43:19.371517Z",
     "start_time": "2019-11-04T13:42:36.824544Z"
    }
   },
   "outputs": [
    {
     "data": {
      "application/vnd.jupyter.widget-view+json": {
       "model_id": "c0ca6ad8d97349578f47dbbc6097d506",
       "version_major": 2,
       "version_minor": 0
      },
      "text/plain": [
       "HBox(children=(IntProgress(value=0, description='Epoch', max=300, style=ProgressStyle(description_width='initi…"
      ]
     },
     "metadata": {},
     "output_type": "display_data"
    }
   ],
   "source": [
    "hop = Hopfield(units=28**2,\n",
    "               epochs=300)\n",
    "hop.train(X[0].ravel())"
   ]
  },
  {
   "cell_type": "code",
   "execution_count": 141,
   "metadata": {
    "ExecuteTime": {
     "end_time": "2019-11-04T13:43:39.847513Z",
     "start_time": "2019-11-04T13:43:19.391516Z"
    }
   },
   "outputs": [
    {
     "data": {
      "application/vnd.jupyter.widget-view+json": {
       "model_id": "ff88c86b206440448a0da089d734db62",
       "version_major": 2,
       "version_minor": 0
      },
      "text/plain": [
       "HBox(children=(IntProgress(value=0, description='Predict', max=784, style=ProgressStyle(description_width='ini…"
      ]
     },
     "metadata": {},
     "output_type": "display_data"
    }
   ],
   "source": [
    "hop.predict(X[0].ravel())"
   ]
  },
  {
   "cell_type": "code",
   "execution_count": 149,
   "metadata": {
    "ExecuteTime": {
     "end_time": "2019-11-04T13:47:55.740565Z",
     "start_time": "2019-11-04T13:47:55.555565Z"
    }
   },
   "outputs": [
    {
     "data": {
      "image/png": "[encoded data removed]",
      "text/plain": [
       "<Figure size 500x500 with 1 Axes>"
      ]
     },
     "metadata": {},
     "output_type": "display_data"
    }
   ],
   "source": [
    "plt.imshow(hop.predicted.sum(axis=0).reshape(28, 28), 'gray')\n",
    "plt.show()"
   ]
  },
  {
   "cell_type": "code",
   "execution_count": null,
   "metadata": {},
   "outputs": [],
   "source": []
  }
 ],
 "metadata": {
  "kernelspec": {
   "display_name": "Python 3",
   "language": "python",
   "name": "python3"
  },
  "language_info": {
   "codemirror_mode": {
    "name": "ipython",
    "version": 3
   },
   "file_extension": ".py",
   "mimetype": "text/x-python",
   "name": "python",
   "nbconvert_exporter": "python",
   "pygments_lexer": "ipython3",
   "version": "3.6.9"
  },
  "latex_envs": {
   "LaTeX_envs_menu_present": true,
   "autoclose": true,
   "autocomplete": false,
   "bibliofile": "biblio.bib",
   "cite_by": "apalike",
   "current_citInitial": 1,
   "eqLabelWithNumbers": true,
   "eqNumInitial": 1,
   "hotkeys": {
    "equation": "Ctrl-E",
    "itemize": "Ctrl-I"
   },
   "labels_anchors": false,
   "latex_user_defs": false,
   "report_style_numbering": false,
   "user_envs_cfg": false
  },
  "varInspector": {
   "cols": {
    "lenName": 16,
    "lenType": 16,
    "lenVar": 40
   },
   "kernels_config": {
    "python": {
     "delete_cmd_postfix": "",
     "delete_cmd_prefix": "del ",
     "library": "var_list.py",
     "varRefreshCmd": "print(var_dic_list())"
    },
    "r": {
     "delete_cmd_postfix": ") ",
     "delete_cmd_prefix": "rm(",
     "library": "var_list.r",
     "varRefreshCmd": "cat(var_dic_list()) "
    }
   },
   "position": {
    "height": "376.65px",
    "left": "1001.2px",
    "right": "20px",
    "top": "111px",
    "width": "493.2px"
   },
   "types_to_exclude": [
    "module",
    "function",
    "builtin_function_or_method",
    "instance",
    "_Feature"
   ],
   "window_display": false
  }
 },
 "nbformat": 4,
 "nbformat_minor": 2
}
