{
 "cells": [
  {
   "cell_type": "code",
   "execution_count": 1,
   "metadata": {
    "ExecuteTime": {
     "end_time": "2020-06-01T08:24:33.412907Z",
     "start_time": "2020-06-01T08:24:14.105287Z"
    }
   },
   "outputs": [],
   "source": [
    "import numpy as np\n",
    "import matplotlib.pyplot as plt\n",
    "import seaborn as sns\n",
    "import matplotlib.ticker as tick\n",
    "import scipy.fftpack as fft\n",
    "import soundfile as sf\n",
    "import scipy.signal as sig\n",
    "import sklearn.linear_model as skl\n",
    "import numpy.random as rd\n",
    "import IPython.display as disp\n",
    "import warnings\n",
    "import pesq\n",
    "from mpl_toolkits.mplot3d import Axes3D\n",
    "from matplotlib import cm\n",
    "from tqdm.notebook import trange, tqdm\n",
    "from jupyterthemes import jtplot"
   ]
  },
  {
   "cell_type": "code",
   "execution_count": 19,
   "metadata": {
    "ExecuteTime": {
     "end_time": "2020-06-01T08:29:21.246137Z",
     "start_time": "2020-06-01T08:29:21.235139Z"
    }
   },
   "outputs": [],
   "source": [
    "%matplotlib inline\n",
    "jtplot.reset()\n",
    "# plt.switch_backend('Agg')\n",
    "sns.set()\n",
    "sns.set_context(\"talk\")\n",
    "plt.rcParams[\"axes.axisbelow\"] = True\n",
    "plt.rcParams[\"figure.figsize\"] = (5*16/9, 5)\n",
    "plt.rcParams[\"figure.dpi\"] = 100"
   ]
  },
  {
   "cell_type": "code",
   "execution_count": 20,
   "metadata": {
    "ExecuteTime": {
     "end_time": "2020-06-01T08:29:27.182757Z",
     "start_time": "2020-06-01T08:29:27.174757Z"
    }
   },
   "outputs": [],
   "source": [
    "def SNRseg(x, y, starts, seglen):\n",
    "    num, den = 0, 0\n",
    "    sigmax = max(max(x), max(y))\n",
    "    x /= sigmax\n",
    "    y /= sigmax\n",
    "    for n in starts:\n",
    "        num += np.sum((x[n:n+seglen])**2)\n",
    "        den += np.sum((x[n:n+seglen] - y[n:n+seglen])**2)\n",
    "    return 10 * np.log10(1 + num/den)/len(starts)\n",
    "\n",
    "def RMSamp(x):\n",
    "    return np.sqrt(np.sum(x**2)/x.size)\n",
    "\n",
    "def powerdB(x):\n",
    "    return 20*np.log10(x/RMSpower(x))\n",
    "\n",
    "# def pesq(fs, ref, deg, mode):\n",
    "#     \"\"\"\n",
    "#     Args:\n",
    "#         ref: numpy 1D array, reference audio signal \n",
    "#         deg: numpy 1D array, degraded audio signal\n",
    "#         fs:  integer, sampling rate\n",
    "#         mode: 'wb' (wide-band) or 'nb' (narrow-band)\n",
    "#     Returns:\n",
    "#         pesq_score: float, P.862.2 Prediction (MOS-LQO)\n",
    "#     \"\"\"\n",
    "#     USAGE = \"\"\"\n",
    "#        Run model on reference ref and degraded deg\n",
    "#        Sample rate (fs) - No default. Must select either 8000 or 16000.\n",
    "#        Note there is narrow band (nb) mode only when sampling rate is 8000Hz.\n",
    "#        \"\"\"\n",
    "#     if mode != 'wb' and mode != 'nb':\n",
    "#         print(USAGE)\n",
    "#         raise ValueError(\"mode should be either 'nb' or 'wb'\")\n",
    "#     if fs != 8000 and fs != 16000:\n",
    "#         print(USAGE)\n",
    "#         raise ValueError(\"fs (sampling frequency) should be either 8000 or 16000\")\n",
    "#     if fs == 8000 and mode == 'wb':\n",
    "#         print(USAGE)\n",
    "#         raise ValueError(\"no wide band mode if fs = 8000\")\n",
    "#     maxval = max(np.max(np.abs(ref/1.0)), np.max(np.abs(deg/1.0)))\n",
    "#     if mode == 'wb':\n",
    "#         return cypesq(fs, (ref/maxval).astype(np.float32), (deg/maxval).astype(np.float32), 1)\n",
    "#     return cypesq(fs, (ref/maxval).astype(np.float32), (deg/maxval).astype(np.float32), 0)"
   ]
  },
  {
   "cell_type": "code",
   "execution_count": 21,
   "metadata": {
    "ExecuteTime": {
     "end_time": "2020-06-01T08:29:28.288629Z",
     "start_time": "2020-06-01T08:29:28.255654Z"
    }
   },
   "outputs": [],
   "source": [
    "class SpeechCS:\n",
    "    def __init__(self, filename, rate=None, downsample=False, downrate=None):\n",
    "        source_type = type(filename)\n",
    "        if source_type == str:\n",
    "            if filename.endswith(\".wav\"):\n",
    "                self.data, self.rate = sf.read(filename)\n",
    "            elif filename.endswith(\".csv\"):\n",
    "                self.data = np.genfromtxt(filename, delimiter=\",\")\n",
    "                if rate is not None:\n",
    "                    self.rate = rate\n",
    "                else:\n",
    "                    self.rate = int(input(\"Enter sample rate: \"))\n",
    "            else:\n",
    "                return \"Unsupported file type\"\n",
    "        elif source_type == np.ndarray:\n",
    "            self.data = filename\n",
    "            if rate is not None:\n",
    "                self.rate = rate\n",
    "            else:\n",
    "                self.rate = int(input(\"Enter sample rate: \"))\n",
    "        \n",
    "        self.dur = self.data.size/self.rate\n",
    "        self.name = filename[:-4]\n",
    "        self.filename = filename\n",
    "        \n",
    "        if len(self.data.shape) > 1 and self.data.shape[1] > 1:\n",
    "            self.data = self.data.mean(axis=1)\n",
    "            \n",
    "        if downsample:\n",
    "            self.rate = downrate\n",
    "            downsize = int(self.dur * downrate)\n",
    "            down_idx = np.round(np.linspace(0, self.data.size-1, downsize)).astype(int)\n",
    "            self.data = self.data[down_idx]\n",
    "            \n",
    "        self.t = np.linspace(0, self.dur, self.data.size)\n",
    "            \n",
    "    def displayData(self, seglen, pc_overlap, save=False, savename=None, **plot_kwargs):\n",
    "        fig = plt.figure(figsize=(5*16/9, 5*2))\n",
    "        \n",
    "        ax = fig.add_subplot(211)\n",
    "        ax.plot(self.t, self.data, lw=0.75, **plot_kwargs)\n",
    "        ax.set_ylabel(\"amplitude\")\n",
    "        \n",
    "        ax = fig.add_subplot(212, sharex=ax)\n",
    "        f, tx, Zxx = sig.stft(self.data, self.rate, nperseg=seglen, noverlap=int(seglen*pc_overlap), window=\"hann\", return_onesided=True)\n",
    "        powspecdens = np.zeros_like(Zxx, float)\n",
    "        powspecdens[0] = abs(Zxx[0])**2\n",
    "        for w in range(1, len(f)):\n",
    "            powspecdens[w] = (abs(Zxx[w])**2)\n",
    "        powspecdens = 10*np.log10(powspecdens)\n",
    "        ax.pcolormesh(tx, f, powspecdens, cmap=\"gray_r\", shading=\"flat\", zorder=0)\n",
    "        ax.set_ylim(f[1], f[-1])\n",
    "        ax.set_ylabel(\"frequency, Hz\")\n",
    "        ax.set_xlabel(\"time, s\")\n",
    "        \n",
    "        plt.tight_layout()\n",
    "        if save:\n",
    "            plt.savefig(savename, dpi=300, bbox_inches='tight')\n",
    "        plt.show()\n",
    "        disp.Audio(self.data, rate=self.rate)\n",
    "        \n",
    "    def sampleCompressive(self, comp_ratio, seglen, percent_overlap, window=\"hann\"):\n",
    "        hop_size = int(seglen * percent_overlap)\n",
    "        starts = np.arange(0, self.data.size, seglen - hop_size, dtype=int)\n",
    "        starts = starts[starts + seglen < self.data.size]\n",
    "        w = sig.get_window(window, seglen + 1)[:-1]\n",
    "        comp_size = int(seglen * comp_ratio)\n",
    "        comp_rate = int(self.rate * comp_ratio)\n",
    "        xhat = np.zeros_like(self.data, complex)\n",
    "        wsum = np.zeros_like(xhat)\n",
    "        rand_idx = np.zeros((len(starts), comp_size), int)\n",
    "        for i in range(len(rand_idx)):\n",
    "            rand_idx[i] = rd.choice(seglen, size=comp_size, replace=False)\n",
    "        spars_basis = fft.dct(np.identity(seglen))\n",
    "        for i,n in enumerate(starts):\n",
    "            x = w * self.data[n : n + seglen]\n",
    "            y = x[rand_idx[i]]\n",
    "            A = spars_basis[rand_idx[i]]\n",
    "            \n",
    "            if i == 0:\n",
    "                prob = skl.LassoCV(cv=10, random_state=0, n_jobs=3)\n",
    "                prob.fit(A, y)\n",
    "                alpha = prob.alpha_\n",
    "            \n",
    "            prob = skl.Lasso(alpha=alpha)\n",
    "            with warnings.catch_warnings():\n",
    "                warnings.simplefilter(\"ignore\")\n",
    "                prob.fit(A, y)\n",
    "            \n",
    "            xhat[n : n + seglen] += w * fft.idct(prob.coef_)\n",
    "            wsum[n : n + seglen] += w**2\n",
    "            \n",
    "#         pos = wsum != 0\n",
    "#         xhat[pos] /= wsum[pos]\n",
    "\n",
    "        self.seglen = seglen\n",
    "        self.comp_ratio = comp_ratio\n",
    "        self.percent_overlap = percent_overlap\n",
    "        self.hop_size = hop_size\n",
    "        self.starts = starts\n",
    "        self.w = w\n",
    "        self.xhat = xhat\n",
    "        \n",
    "    def displayRecovered(self, seglen, pc_overlap, save=False, savename=None, **plot_kwargs):\n",
    "        fig = plt.figure(figsize=(5*16/9, 5*2))\n",
    "        \n",
    "        ax = fig.add_subplot(211)\n",
    "        ax.plot(self.t, self.xhat.real, lw=0.75, **plot_kwargs)\n",
    "        ax.set_ylabel(\"amplitude\")\n",
    "        \n",
    "        ax = fig.add_subplot(212, sharex=ax)\n",
    "        f, tx, Zxx = sig.stft(self.xhat.real, self.rate, nperseg=seglen, noverlap=int(seglen*pc_overlap), window=\"hann\", return_onesided=True)\n",
    "        powspecdens = np.zeros_like(Zxx, float)\n",
    "        powspecdens[0] = abs(Zxx[0])**2\n",
    "        for w in range(1, len(f)):\n",
    "            powspecdens[w] = (abs(Zxx[w])**2)\n",
    "        powspecdens = 10*np.log10(powspecdens)\n",
    "        ax.pcolormesh(tx, f, powspecdens, cmap=\"gray_r\", shading=\"flat\", zorder=0)\n",
    "        ax.set_ylim(f[1], f[-1])\n",
    "        ax.set_ylabel(\"frequency, Hz\")\n",
    "        ax.set_xlabel(\"time, s\")\n",
    "        \n",
    "        plt.tight_layout()\n",
    "        if save:\n",
    "            plt.savefig(savename, dpi=300, bbox_inches='tight')\n",
    "        plt.show()\n",
    "        disp.Audio(self.xhat.real, rate=self.rate)"
   ]
  },
  {
   "cell_type": "code",
   "execution_count": 22,
   "metadata": {
    "ExecuteTime": {
     "end_time": "2020-06-01T08:29:31.494114Z",
     "start_time": "2020-06-01T08:29:31.487115Z"
    }
   },
   "outputs": [],
   "source": [
    "file = r\"D:\\Kenneth\\Documents\\VIP\\Algorithms\\TIMIT\\data\\lisa\\data\\timit\\raw\\TIMIT\\TEST\\DR8\\MJLN0\\SA1.wav\"\n",
    "prdir = 'D:/Kenneth/Documents/5-2/SPP/images'\n",
    "data, rate = sf.read(file)\n",
    "samples = len(data)\n",
    "duration = samples/rate\n",
    "t = np.linspace(0, duration, samples)"
   ]
  },
  {
   "cell_type": "code",
   "execution_count": 23,
   "metadata": {
    "ExecuteTime": {
     "end_time": "2020-06-01T08:29:32.972117Z",
     "start_time": "2020-06-01T08:29:32.966114Z"
    }
   },
   "outputs": [],
   "source": [
    "cse = SpeechCS(\n",
    "    r\"D:\\Kenneth\\Documents\\VIP\\Algorithms\\TIMIT\\data\\lisa\\data\\timit\\raw\\TIMIT\\TEST\\DR8\\MJLN0\\SA1.wav\", \n",
    "    None, \n",
    "    True, \n",
    "    8000\n",
    ")"
   ]
  },
  {
   "cell_type": "code",
   "execution_count": 24,
   "metadata": {
    "ExecuteTime": {
     "end_time": "2020-06-01T08:29:37.628118Z",
     "start_time": "2020-06-01T08:29:34.024114Z"
    }
   },
   "outputs": [
    {
     "data": {
      "image/png": "[encoded data removed]",
      "text/plain": [
       "<Figure size 888.889x1000 with 2 Axes>"
      ]
     },
     "metadata": {},
     "output_type": "display_data"
    }
   ],
   "source": [
    "cse.displayData(int(cse.rate*25e-3), 0.75, True, 'dispdata.png')"
   ]
  },
  {
   "cell_type": "code",
   "execution_count": 25,
   "metadata": {
    "ExecuteTime": {
     "end_time": "2020-06-01T08:30:14.178370Z",
     "start_time": "2020-06-01T08:29:40.748115Z"
    }
   },
   "outputs": [],
   "source": [
    "cse.sampleCompressive(0.4, 1024, 0.75, \"hann\")"
   ]
  },
  {
   "cell_type": "code",
   "execution_count": 26,
   "metadata": {
    "ExecuteTime": {
     "end_time": "2020-06-01T08:30:17.428370Z",
     "start_time": "2020-06-01T08:30:14.189371Z"
    },
    "scrolled": false
   },
   "outputs": [
    {
     "name": "stderr",
     "output_type": "stream",
     "text": [
      "d:\\kenneth\\documents\\vip\\tf2_env\\lib\\site-packages\\ipykernel_launcher.py:117: RuntimeWarning: divide by zero encountered in log10\n"
     ]
    },
    {
     "data": {
      "image/png": "[encoded data removed]",
      "text/plain": [
       "<Figure size 888.889x1000 with 2 Axes>"
      ]
     },
     "metadata": {},
     "output_type": "display_data"
    }
   ],
   "source": [
    "cse.displayRecovered(int(cse.rate*25e-3), 0.75, True, 'dispcomp.png')"
   ]
  },
  {
   "cell_type": "code",
   "execution_count": 28,
   "metadata": {
    "ExecuteTime": {
     "end_time": "2020-06-01T08:30:32.008659Z",
     "start_time": "2020-06-01T08:30:31.947660Z"
    }
   },
   "outputs": [
    {
     "name": "stdout",
     "output_type": "stream",
     "text": [
      "2.4313294887542725\n",
      "0.07129240761491543\n"
     ]
    }
   ],
   "source": [
    "print(pesq.pesq(cse.rate, cse.data, cse.xhat.real, 'nb'))\n",
    "print(SNRseg(cse.data, cse.xhat.real, cse.starts, cse.seglen))"
   ]
  },
  {
   "cell_type": "code",
   "execution_count": 47,
   "metadata": {
    "ExecuteTime": {
     "end_time": "2019-10-09T17:17:08.028661Z",
     "start_time": "2019-10-09T17:17:07.636663Z"
    }
   },
   "outputs": [],
   "source": [
    "sf.write('SA1_recov.wav', cse.xhat.real.astype('float32'), cse.rate)"
   ]
  },
  {
   "cell_type": "code",
   "execution_count": 29,
   "metadata": {
    "ExecuteTime": {
     "end_time": "2020-06-01T08:30:34.081215Z",
     "start_time": "2020-06-01T08:30:34.076216Z"
    }
   },
   "outputs": [],
   "source": [
    "MNlist = np.arange(0.1, 1.0, 0.1)\n",
    "sblist = [128, 256, 512, 1024]\n",
    "\n",
    "pesqlist = np.zeros((len(MNlist), len(sblist)), float)\n",
    "snrlist = np.zeros_like(pesqlist)"
   ]
  },
  {
   "cell_type": "code",
   "execution_count": 17,
   "metadata": {
    "ExecuteTime": {
     "end_time": "2019-07-10T05:49:42.796051Z",
     "start_time": "2019-07-10T05:41:55.059672Z"
    },
    "scrolled": false
   },
   "outputs": [
    {
     "data": {
      "application/vnd.jupyter.widget-view+json": {
       "model_id": "9d8cacf493a6471cb58f1a51d2d1dc68",
       "version_major": 2,
       "version_minor": 0
      },
      "text/plain": [
       "HBox(children=(IntProgress(value=0, description='subband', max=4, style=ProgressStyle(description_width='initi…"
      ]
     },
     "metadata": {},
     "output_type": "display_data"
    },
    {
     "data": {
      "application/vnd.jupyter.widget-view+json": {
       "model_id": "",
       "version_major": 2,
       "version_minor": 0
      },
      "text/plain": [
       "HBox(children=(IntProgress(value=0, description='compression ratio', max=9, style=ProgressStyle(description_wi…"
      ]
     },
     "metadata": {},
     "output_type": "display_data"
    },
    {
     "name": "stderr",
     "output_type": "stream",
     "text": [
      "D:\\ProgramData\\Anaconda3\\envs\\compsense\\lib\\site-packages\\sklearn\\linear_model\\coordinate_descent.py:475: ConvergenceWarning: Objective did not converge. You might want to increase the number of iterations. Duality gap: 2.470266772125909e-11, tolerance: 1.5155717531930773e-11\n",
      "  positive)\n"
     ]
    },
    {
     "data": {
      "application/vnd.jupyter.widget-view+json": {
       "model_id": "",
       "version_major": 2,
       "version_minor": 0
      },
      "text/plain": [
       "HBox(children=(IntProgress(value=0, description='compression ratio', max=9, style=ProgressStyle(description_wi…"
      ]
     },
     "metadata": {},
     "output_type": "display_data"
    },
    {
     "data": {
      "application/vnd.jupyter.widget-view+json": {
       "model_id": "",
       "version_major": 2,
       "version_minor": 0
      },
      "text/plain": [
       "HBox(children=(IntProgress(value=0, description='compression ratio', max=9, style=ProgressStyle(description_wi…"
      ]
     },
     "metadata": {},
     "output_type": "display_data"
    },
    {
     "data": {
      "application/vnd.jupyter.widget-view+json": {
       "model_id": "",
       "version_major": 2,
       "version_minor": 0
      },
      "text/plain": [
       "HBox(children=(IntProgress(value=0, description='compression ratio', max=9, style=ProgressStyle(description_wi…"
      ]
     },
     "metadata": {},
     "output_type": "display_data"
    },
    {
     "name": "stdout",
     "output_type": "stream",
     "text": [
      "\n"
     ]
    }
   ],
   "source": [
    "for i,s in enumerate(tqdm(sblist, desc=\"subband\")):\n",
    "    for j,m in enumerate(tqdm(MNlist, desc=\"compression ratio\", leave=False)):\n",
    "        cse = SpeechCS(r\"D:\\Kenneth\\Documents\\VIP\\Algorithms\\TIMIT\\data\\lisa\\data\\timit\\raw\\TIMIT\\TEST\\DR8\\MJLN0\\SA1.wav\", \n",
    "                None, True, 8000)\n",
    "        cse.sampleCompressive(m, s, 0.75, \"hann\")\n",
    "        pesqlist[j,i] = pesq(cse.rate, cse.data, cse.xhat.real, \"nb\")\n",
    "        snrlist[j,i] = SNRseg(cse.data, cse.xhat.real, cse.starts, cse.seglen)\n",
    "np.save(\"pesq.npy\", pesqlist)\n",
    "np.save(\"snr.npy\", snrlist)"
   ]
  },
  {
   "cell_type": "code",
   "execution_count": 30,
   "metadata": {
    "ExecuteTime": {
     "end_time": "2020-06-01T08:30:35.665818Z",
     "start_time": "2020-06-01T08:30:35.659813Z"
    }
   },
   "outputs": [],
   "source": [
    "pesqlist = np.load(\"pesq.npy\")\n",
    "snrlist = np.load(\"snr.npy\")"
   ]
  },
  {
   "cell_type": "code",
   "execution_count": 31,
   "metadata": {
    "ExecuteTime": {
     "end_time": "2020-06-01T08:30:38.665912Z",
     "start_time": "2020-06-01T08:30:35.883912Z"
    }
   },
   "outputs": [
    {
     "data": {
      "image/png": "[encoded data removed]",
      "text/plain": [
       "<Figure size 1777.78x500 with 4 Axes>"
      ]
     },
     "metadata": {},
     "output_type": "display_data"
    }
   ],
   "source": [
    "X, Y = np.meshgrid(sblist, MNlist)\n",
    "\n",
    "fig = plt.figure(figsize=(5*16/9*2, 5))\n",
    "\n",
    "# ax = fig.add_subplot(221, projection=\"3d\")\n",
    "# ax.view_init(elev=20, azim=-125)\n",
    "# ax.set_xlabel(\"Number of subbands\")\n",
    "# ax.set_ylabel(\"compression ratio\")\n",
    "# ax.set_zlabel(\"PESQ\")\n",
    "# ax.set_xticks(sblist)\n",
    "# ax.set_yticks(np.arange(0.1, 1.0, 0.2))\n",
    "# norm = plt.Normalize(pesqlist.min(), pesqlist.max())\n",
    "# colors = cm.jet(norm(pesqlist))\n",
    "# rcount, ccount, _ = colors.shape\n",
    "# surf = ax.plot_surface(X, Y, pesqlist, facecolors=colors, shade=False, rcount=rcount, ccount=ccount, linewidth=1, antialiased=True)\n",
    "# surf.set_facecolor((1,1,1,1))\n",
    "\n",
    "# ax = fig.add_subplot(222, projection=\"3d\")\n",
    "# ax.view_init(elev=20, azim=-125)\n",
    "# ax.set_xlabel(\"Number of subbands\")\n",
    "# ax.set_ylabel(\"compression ratio\")\n",
    "# ax.set_zlabel(\"average $SNR_{seg}$\")\n",
    "# ax.set_xticks(sblist)\n",
    "# ax.set_yticks(np.arange(0.1, 1.0, 0.2))\n",
    "# norm = plt.Normalize(snrlist.min(), snrlist.max())\n",
    "# colors = cm.jet(norm(snrlist))\n",
    "# rcount, ccount, _ = colors.shape\n",
    "# surf = ax.plot_surface(X, Y, snrlist, facecolors=colors, shade=False, rcount=rcount, ccount=ccount, linewidth=1, antialiased=True)\n",
    "# surf.set_facecolor((1,1,1,1))\n",
    "\n",
    "ax = fig.add_subplot(121)\n",
    "cax = ax.contourf(X, Y, pesqlist, cmap=\"Blues_r\", antialiased=True)\n",
    "ax.set_xlabel(\"Number of subbands\")\n",
    "ax.set_ylabel(\"compression ratio\")\n",
    "ax.set_xticks(sblist)\n",
    "ax.set_yticks(np.arange(0.1, 1.0, 0.2))\n",
    "ax.set_xscale(\"log\", basex=2)\n",
    "ax.set_xticklabels([0, 128, 256, 512, 1024])\n",
    "ax.set_title(\"PESQ\")\n",
    "fig.colorbar(cax, pad=0.01, fraction=0.1)\n",
    "\n",
    "ax = fig.add_subplot(122)\n",
    "cax = ax.contourf(X, Y, snrlist, cmap=\"Blues_r\", antialiased=True)\n",
    "ax.set_xlabel(\"Number of subbands\")\n",
    "ax.set_ylabel(\"compression ratio\")\n",
    "ax.set_xticks(sblist)\n",
    "ax.set_yticks(np.arange(0.1, 1.0, 0.2))\n",
    "ax.set_xscale(\"log\", basex=2)\n",
    "ax.set_xticklabels([0, 128, 256, 512, 1024])\n",
    "ax.set_title(\"SNR$_{seg}$\")\n",
    "fig.colorbar(cax, pad=0.01, fraction=0.1)\n",
    "\n",
    "# plt.suptitle(\"clean signal\")\n",
    "plt.tight_layout()\n",
    "plt.savefig(\"metrics.png\", bbox_inches=\"tight\", dpi=300)\n",
    "plt.show()"
   ]
  },
  {
   "cell_type": "code",
   "execution_count": null,
   "metadata": {},
   "outputs": [],
   "source": []
  }
 ],
 "metadata": {
  "kernelspec": {
   "display_name": "Python 3",
   "language": "python",
   "name": "python3"
  },
  "language_info": {
   "codemirror_mode": {
    "name": "ipython",
    "version": 3
   },
   "file_extension": ".py",
   "mimetype": "text/x-python",
   "name": "python",
   "nbconvert_exporter": "python",
   "pygments_lexer": "ipython3",
   "version": "3.6.8"
  },
  "latex_envs": {
   "LaTeX_envs_menu_present": true,
   "autoclose": true,
   "autocomplete": false,
   "bibliofile": "biblio.bib",
   "cite_by": "apalike",
   "current_citInitial": 1,
   "eqLabelWithNumbers": true,
   "eqNumInitial": 1,
   "hotkeys": {
    "equation": "Ctrl-E",
    "itemize": "Ctrl-I"
   },
   "labels_anchors": false,
   "latex_user_defs": false,
   "report_style_numbering": false,
   "user_envs_cfg": false
  },
  "toc": {
   "base_numbering": 1,
   "nav_menu": {},
   "number_sections": true,
   "sideBar": true,
   "skip_h1_title": false,
   "title_cell": "Table of Contents",
   "title_sidebar": "Contents",
   "toc_cell": false,
   "toc_position": {},
   "toc_section_display": true,
   "toc_window_display": false
  },
  "varInspector": {
   "cols": {
    "lenName": 16,
    "lenType": 16,
    "lenVar": 40
   },
   "kernels_config": {
    "python": {
     "delete_cmd_postfix": "",
     "delete_cmd_prefix": "del ",
     "library": "var_list.py",
     "varRefreshCmd": "print(var_dic_list())"
    },
    "r": {
     "delete_cmd_postfix": ") ",
     "delete_cmd_prefix": "rm(",
     "library": "var_list.r",
     "varRefreshCmd": "cat(var_dic_list()) "
    }
   },
   "position": {
    "height": "431.85px",
    "left": "1234px",
    "right": "20px",
    "top": "120px",
    "width": "668px"
   },
   "types_to_exclude": [
    "module",
    "function",
    "builtin_function_or_method",
    "instance",
    "_Feature"
   ],
   "window_display": false
  },
  "widgets": {
   "application/vnd.jupyter.widget-state+json": {
    "state": {
     "006fe07113a644c989039e6e6e6268dd": {
      "model_module": "@jupyter-widgets/base",
      "model_module_version": "1.1.0",
      "model_name": "LayoutModel",
      "state": {}
     },
     "00f7bece906340b5a5d376fe206803e4": {
      "model_module": "@jupyter-widgets/base",
      "model_module_version": "1.1.0",
      "model_name": "LayoutModel",
      "state": {}
     },
     "019e4adaaf1448b7be07427c5a77d68f": {
      "model_module": "@jupyter-widgets/controls",
      "model_module_version": "1.4.0",
      "model_name": "DescriptionStyleModel",
      "state": {
       "description_width": ""
      }
     },
     "02a15b1ed1274a48b7e13409d6e55cd6": {
      "model_module": "@jupyter-widgets/controls",
      "model_module_version": "1.4.0",
      "model_name": "DescriptionStyleModel",
      "state": {
       "description_width": ""
      }
     },
     "02ef4c6d4dbe47a9be7adf77a42a1a44": {
      "model_module": "@jupyter-widgets/controls",
      "model_module_version": "1.4.0",
      "model_name": "HBoxModel",
      "state": {
       "children": [
        "IPY_MODEL_653fb1929c824ccfb251354a6ac55bb3",
        "IPY_MODEL_d4f29eddd103430187d2fd46b232b6e8"
       ],
       "layout": "IPY_MODEL_23909cde79764275933f8f704ccb8aee"
      }
     },
     "038b9997be48475d80ad6461c0d06d64": {
      "model_module": "@jupyter-widgets/base",
      "model_module_version": "1.1.0",
      "model_name": "LayoutModel",
      "state": {}
     },
     "04e3445eb85747ad9593f9a80466e5e3": {
      "model_module": "@jupyter-widgets/base",
      "model_module_version": "1.1.0",
      "model_name": "LayoutModel",
      "state": {}
     },
     "04e9e4541e014a1d9c16995fce94614c": {
      "model_module": "@jupyter-widgets/controls",
      "model_module_version": "1.4.0",
      "model_name": "IntProgressModel",
      "state": {
       "bar_style": "success",
       "layout": "IPY_MODEL_a756778b154b46e1a498f044a1e0c1be",
       "max": 1911,
       "style": "IPY_MODEL_8ee5e69b78c04564a0d946135d95c909",
       "value": 1911
      }
     },
     "06c7b85bf35a4b619b567eaf7bbd868f": {
      "model_module": "@jupyter-widgets/base",
      "model_module_version": "1.1.0",
      "model_name": "LayoutModel",
      "state": {}
     },
     "073bbca9a3474c69b22233a660753a8b": {
      "model_module": "@jupyter-widgets/controls",
      "model_module_version": "1.4.0",
      "model_name": "DescriptionStyleModel",
      "state": {
       "description_width": ""
      }
     },
     "077bd39069a74474b7039d0654776d10": {
      "model_module": "@jupyter-widgets/controls",
      "model_module_version": "1.4.0",
      "model_name": "HBoxModel",
      "state": {
       "children": [
        "IPY_MODEL_6b5ee68acee7409daf82f04eb9a11a8a",
        "IPY_MODEL_dd03f2f2c6be404598a31f44a698c1b0"
       ],
       "layout": "IPY_MODEL_564beb649e764d37a07e67afe69b3c94"
      }
     },
     "07c4275fa99242f1b5d6291b47e6575c": {
      "model_module": "@jupyter-widgets/base",
      "model_module_version": "1.1.0",
      "model_name": "LayoutModel",
      "state": {}
     },
     "090e37af3c98490e93c9fae7e69a4914": {
      "model_module": "@jupyter-widgets/controls",
      "model_module_version": "1.4.0",
      "model_name": "DescriptionStyleModel",
      "state": {
       "description_width": ""
      }
     },
     "097331bd37fa49789e38d96c0da7667f": {
      "model_module": "@jupyter-widgets/controls",
      "model_module_version": "1.4.0",
      "model_name": "ProgressStyleModel",
      "state": {
       "description_width": "initial"
      }
     },
     "0c4a6be8baa941c0a15b31293ab95e64": {
      "model_module": "@jupyter-widgets/controls",
      "model_module_version": "1.4.0",
      "model_name": "ProgressStyleModel",
      "state": {
       "description_width": "initial"
      }
     },
     "0e7480b7d46843b9bd8c18edf897dc8d": {
      "model_module": "@jupyter-widgets/controls",
      "model_module_version": "1.4.0",
      "model_name": "DescriptionStyleModel",
      "state": {
       "description_width": ""
      }
     },
     "0f18a3bdcf244961955f6eba934f15cf": {
      "model_module": "@jupyter-widgets/base",
      "model_module_version": "1.1.0",
      "model_name": "LayoutModel",
      "state": {}
     },
     "0fa7a4706e634c349261a4c43d5387b6": {
      "model_module": "@jupyter-widgets/controls",
      "model_module_version": "1.4.0",
      "model_name": "DescriptionStyleModel",
      "state": {
       "description_width": ""
      }
     },
     "12a2ff82672a47898a7f0c716b383bb0": {
      "model_module": "@jupyter-widgets/base",
      "model_module_version": "1.1.0",
      "model_name": "LayoutModel",
      "state": {}
     },
     "139d53064be04128b4360b26aef6bb5c": {
      "model_module": "@jupyter-widgets/base",
      "model_module_version": "1.1.0",
      "model_name": "LayoutModel",
      "state": {}
     },
     "13a59c2318dc4b3e878b7d58fb36e95c": {
      "model_module": "@jupyter-widgets/controls",
      "model_module_version": "1.4.0",
      "model_name": "HTMLModel",
      "state": {
       "layout": "IPY_MODEL_d9858b05c411448b9438d21308197fab",
       "style": "IPY_MODEL_6246b258773e4f869ed85daa0082d494",
       "value": "100% 9/9 [00:53&lt;00:00,  5.58s/it]"
      }
     },
     "18a9e7b0c7be4c2e8db274d58584ef76": {
      "model_module": "@jupyter-widgets/controls",
      "model_module_version": "1.4.0",
      "model_name": "HBoxModel",
      "state": {
       "children": [
        "IPY_MODEL_64e1f5ab18b24663a15d707b27c2c0d6",
        "IPY_MODEL_9eed1e5f098c4cc7a83d32fb464f7f5f"
       ],
       "layout": "IPY_MODEL_ec7e9cc3367240febe3dde6238fad7be"
      }
     },
     "1995e590a44747d4b8c87005f06cb996": {
      "model_module": "@jupyter-widgets/base",
      "model_module_version": "1.1.0",
      "model_name": "LayoutModel",
      "state": {}
     },
     "19a02d539b944e3f809ad51372ab29c6": {
      "model_module": "@jupyter-widgets/controls",
      "model_module_version": "1.4.0",
      "model_name": "HBoxModel",
      "state": {
       "children": [
        "IPY_MODEL_9b246de3690c4b7d95cf74965f146da9",
        "IPY_MODEL_1af178e44f1a4cb9a2c91677857d74eb"
       ],
       "layout": "IPY_MODEL_576ca8d1d7974f88902c4e2b4cebc8c9"
      }
     },
     "19c854cde9c0476da84b28b2d2d3ba58": {
      "model_module": "@jupyter-widgets/controls",
      "model_module_version": "1.4.0",
      "model_name": "IntProgressModel",
      "state": {
       "bar_style": "success",
       "description": "subband",
       "layout": "IPY_MODEL_64255e24212448faa2b90483a82e3890",
       "max": 4,
       "style": "IPY_MODEL_c4a075299b9c4602b4cf6ac001fc3ef3",
       "value": 4
      }
     },
     "1a64b843e47f434a975cf8a8d90a2478": {
      "model_module": "@jupyter-widgets/base",
      "model_module_version": "1.1.0",
      "model_name": "LayoutModel",
      "state": {}
     },
     "1aaa54bdd04a4830b11e15492ff33343": {
      "model_module": "@jupyter-widgets/controls",
      "model_module_version": "1.4.0",
      "model_name": "DescriptionStyleModel",
      "state": {
       "description_width": ""
      }
     },
     "1af178e44f1a4cb9a2c91677857d74eb": {
      "model_module": "@jupyter-widgets/controls",
      "model_module_version": "1.4.0",
      "model_name": "HTMLModel",
      "state": {
       "layout": "IPY_MODEL_4298558a227742aa90b5314722676941",
       "style": "IPY_MODEL_d32953a66b4c4a43ba1c8314f3f92824",
       "value": "100% 4/4 [07:38&lt;00:00, 122.10s/it]"
      }
     },
     "1be833a2f08e4194a40fc8ddd40f718c": {
      "model_module": "@jupyter-widgets/controls",
      "model_module_version": "1.4.0",
      "model_name": "HBoxModel",
      "state": {
       "children": [
        "IPY_MODEL_9bbf41a3c5bb45f48a55fd4647c5adcf",
        "IPY_MODEL_fba55b34caa14737a749ef9e410d3d6b"
       ],
       "layout": "IPY_MODEL_9c8f268c87f944b48ab1dbbb1ae2d4d9"
      }
     },
     "1c0154e22d0d411fa5c052920666435d": {
      "model_module": "@jupyter-widgets/base",
      "model_module_version": "1.1.0",
      "model_name": "LayoutModel",
      "state": {}
     },
     "1c3321b09d154fd49b252b785df0a7b8": {
      "model_module": "@jupyter-widgets/controls",
      "model_module_version": "1.4.0",
      "model_name": "ProgressStyleModel",
      "state": {
       "description_width": "initial"
      }
     },
     "1c5c371e9ab14a809922c5f21420786f": {
      "model_module": "@jupyter-widgets/base",
      "model_module_version": "1.1.0",
      "model_name": "LayoutModel",
      "state": {}
     },
     "1c7eb1b35539498795e0f2f2e7a96dd3": {
      "model_module": "@jupyter-widgets/base",
      "model_module_version": "1.1.0",
      "model_name": "LayoutModel",
      "state": {}
     },
     "1e0112779ead451681624504dc9e8f5a": {
      "model_module": "@jupyter-widgets/base",
      "model_module_version": "1.1.0",
      "model_name": "LayoutModel",
      "state": {}
     },
     "21aa3bcc12bc47a88417db1b0279ddaa": {
      "model_module": "@jupyter-widgets/controls",
      "model_module_version": "1.4.0",
      "model_name": "DescriptionStyleModel",
      "state": {
       "description_width": ""
      }
     },
     "220a85dffa5f4c0dbd0b658145a4d1cb": {
      "model_module": "@jupyter-widgets/controls",
      "model_module_version": "1.4.0",
      "model_name": "HBoxModel",
      "state": {
       "children": [
        "IPY_MODEL_9a821b64d9f94a00a7811c2c6e553da0",
        "IPY_MODEL_be91e58fcdc544e5a6b39d98987e36ac"
       ],
       "layout": "IPY_MODEL_2e5710705f0747169c67843ed645229e"
      }
     },
     "230f5b1d4f3a49f5adc2977f7177455c": {
      "model_module": "@jupyter-widgets/controls",
      "model_module_version": "1.4.0",
      "model_name": "DescriptionStyleModel",
      "state": {
       "description_width": ""
      }
     },
     "23909cde79764275933f8f704ccb8aee": {
      "model_module": "@jupyter-widgets/base",
      "model_module_version": "1.1.0",
      "model_name": "LayoutModel",
      "state": {}
     },
     "23cb5b265d834f57881149d62686cb72": {
      "model_module": "@jupyter-widgets/base",
      "model_module_version": "1.1.0",
      "model_name": "LayoutModel",
      "state": {}
     },
     "24bdcdb9f9824013850508b078427f27": {
      "model_module": "@jupyter-widgets/base",
      "model_module_version": "1.1.0",
      "model_name": "LayoutModel",
      "state": {}
     },
     "24f840fc60ec4909824bbc13b8799d26": {
      "model_module": "@jupyter-widgets/controls",
      "model_module_version": "1.4.0",
      "model_name": "HTMLModel",
      "state": {
       "layout": "IPY_MODEL_994635efb61c48b6b913de5a08291649",
       "style": "IPY_MODEL_969fc98d82ab4d80b969145518dd72c6",
       "value": "100% 9/9 [00:39&lt;00:00,  4.32s/it]"
      }
     },
     "2571f97ec8b84774944a4b7dadb1a186": {
      "model_module": "@jupyter-widgets/controls",
      "model_module_version": "1.4.0",
      "model_name": "HTMLModel",
      "state": {
       "layout": "IPY_MODEL_1a64b843e47f434a975cf8a8d90a2478",
       "style": "IPY_MODEL_a11f32c8729e404895a3f060836fa52c",
       "value": " 22% 2/9 [00:07&lt;00:24,  3.54s/it]"
      }
     },
     "27c2a3877c104c7f97847867e6d0e2fd": {
      "model_module": "@jupyter-widgets/controls",
      "model_module_version": "1.4.0",
      "model_name": "IntProgressModel",
      "state": {
       "description": "compression ratio",
       "layout": "IPY_MODEL_465dde396125430f98d825c83fdf5939",
       "max": 9,
       "style": "IPY_MODEL_36eeb9d889d84041b24619b117d90b23",
       "value": 9
      }
     },
     "27db8518e00844d5afd6306a3faa81c4": {
      "model_module": "@jupyter-widgets/base",
      "model_module_version": "1.1.0",
      "model_name": "LayoutModel",
      "state": {}
     },
     "2871e1ffce404ed4b8e06ca7a25d3cfd": {
      "model_module": "@jupyter-widgets/base",
      "model_module_version": "1.1.0",
      "model_name": "LayoutModel",
      "state": {}
     },
     "28b7ce2e5dd84543b55fbf30a613878a": {
      "model_module": "@jupyter-widgets/controls",
      "model_module_version": "1.4.0",
      "model_name": "DescriptionStyleModel",
      "state": {
       "description_width": ""
      }
     },
     "28fe7860f44a4c70a65c97db9a964186": {
      "model_module": "@jupyter-widgets/controls",
      "model_module_version": "1.4.0",
      "model_name": "HBoxModel",
      "state": {
       "children": [
        "IPY_MODEL_bdf14d0ac11747ccbeb272f3c24594aa",
        "IPY_MODEL_f4b285754a1b40c8bbb43f02ea7abfdb"
       ],
       "layout": "IPY_MODEL_757ae45340ca4223a1944ccd1b6105dd"
      }
     },
     "293ed6a9fddc434a855bec89b9faef08": {
      "model_module": "@jupyter-widgets/base",
      "model_module_version": "1.1.0",
      "model_name": "LayoutModel",
      "state": {}
     },
     "29747ba8424f476a9099228481a254fc": {
      "model_module": "@jupyter-widgets/controls",
      "model_module_version": "1.4.0",
      "model_name": "ProgressStyleModel",
      "state": {
       "description_width": "initial"
      }
     },
     "29817820412c4ab6bd0c5a3320d4cd1d": {
      "model_module": "@jupyter-widgets/base",
      "model_module_version": "1.1.0",
      "model_name": "LayoutModel",
      "state": {}
     },
     "2dbf8aea0c6346e8b45a177b30d53b4d": {
      "model_module": "@jupyter-widgets/controls",
      "model_module_version": "1.4.0",
      "model_name": "ProgressStyleModel",
      "state": {
       "description_width": "initial"
      }
     },
     "2e10ba45f7414ad380225131dada7d11": {
      "model_module": "@jupyter-widgets/controls",
      "model_module_version": "1.4.0",
      "model_name": "IntProgressModel",
      "state": {
       "description": "compression ratio",
       "layout": "IPY_MODEL_5d90fb08408f45be9b0f4e55e7d41bdb",
       "max": 9,
       "style": "IPY_MODEL_0c4a6be8baa941c0a15b31293ab95e64",
       "value": 9
      }
     },
     "2e423c1857234789b1afb59538e583db": {
      "model_module": "@jupyter-widgets/controls",
      "model_module_version": "1.4.0",
      "model_name": "IntProgressModel",
      "state": {
       "description": "compression ratio",
       "layout": "IPY_MODEL_1e0112779ead451681624504dc9e8f5a",
       "max": 9,
       "style": "IPY_MODEL_937b85945ba84577932620838dbe9dcc",
       "value": 9
      }
     },
     "2e5710705f0747169c67843ed645229e": {
      "model_module": "@jupyter-widgets/base",
      "model_module_version": "1.1.0",
      "model_name": "LayoutModel",
      "state": {}
     },
     "2e76a749bd8c4e4886777182ee7131b4": {
      "model_module": "@jupyter-widgets/base",
      "model_module_version": "1.1.0",
      "model_name": "LayoutModel",
      "state": {}
     },
     "2f4a8d7b5d164598828bd8f689e1a53e": {
      "model_module": "@jupyter-widgets/base",
      "model_module_version": "1.1.0",
      "model_name": "LayoutModel",
      "state": {}
     },
     "304c63c6d3a4452ca63a2167278fb264": {
      "model_module": "@jupyter-widgets/controls",
      "model_module_version": "1.4.0",
      "model_name": "HTMLModel",
      "state": {
       "layout": "IPY_MODEL_8bb3a02d89f2412993152c6b020c2343",
       "style": "IPY_MODEL_423375a858884f22be0920fbd269aa5a",
       "value": " 44% 407/924 [00:02&lt;00:04, 128.79it/s]"
      }
     },
     "3086fb0eecbd472c9bf66f947e877406": {
      "model_module": "@jupyter-widgets/controls",
      "model_module_version": "1.4.0",
      "model_name": "HTMLModel",
      "state": {
       "layout": "IPY_MODEL_bff11a16d7474b029dd221fb77662bc1",
       "style": "IPY_MODEL_ede7ef64707948e2a8a279edfb477c5c",
       "value": "100% 9/9 [00:37&lt;00:00,  4.33s/it]"
      }
     },
     "310d78dc833946d2b1c4665e8a26e218": {
      "model_module": "@jupyter-widgets/controls",
      "model_module_version": "1.4.0",
      "model_name": "ProgressStyleModel",
      "state": {
       "description_width": "initial"
      }
     },
     "311b58e9469d4a4bad8372fd6eac782c": {
      "model_module": "@jupyter-widgets/base",
      "model_module_version": "1.1.0",
      "model_name": "LayoutModel",
      "state": {}
     },
     "32b642b867e54c3c9ff852b21259c2cc": {
      "model_module": "@jupyter-widgets/controls",
      "model_module_version": "1.4.0",
      "model_name": "ProgressStyleModel",
      "state": {
       "description_width": ""
      }
     },
     "3501fefd6c6c4e04ac7a22489380ef3e": {
      "model_module": "@jupyter-widgets/base",
      "model_module_version": "1.1.0",
      "model_name": "LayoutModel",
      "state": {}
     },
     "3617b46fe070468f9dd8d88b5d936c87": {
      "model_module": "@jupyter-widgets/controls",
      "model_module_version": "1.4.0",
      "model_name": "ProgressStyleModel",
      "state": {
       "description_width": "initial"
      }
     },
     "367f65cc7e46495881aace519e359113": {
      "model_module": "@jupyter-widgets/base",
      "model_module_version": "1.1.0",
      "model_name": "LayoutModel",
      "state": {}
     },
     "36a7df4b15164aacb39e84b5f2baead7": {
      "model_module": "@jupyter-widgets/controls",
      "model_module_version": "1.4.0",
      "model_name": "HTMLModel",
      "state": {
       "layout": "IPY_MODEL_8ffebb16cb6b4e8b82da0845585d1ae5",
       "style": "IPY_MODEL_94909db336ef4851a190ab00b0970f17",
       "value": "100% 9/9 [01:08&lt;00:00,  7.08s/it]"
      }
     },
     "36c7ac5205f94e77b6e3539b155b4ab9": {
      "model_module": "@jupyter-widgets/controls",
      "model_module_version": "1.4.0",
      "model_name": "IntProgressModel",
      "state": {
       "description": "compression ratio",
       "layout": "IPY_MODEL_6d529e8f53fd4a7b8077fdebfbfe6367",
       "max": 9,
       "style": "IPY_MODEL_7ee013c4553e4367bbadb741b5b04f9f",
       "value": 9
      }
     },
     "36eeb9d889d84041b24619b117d90b23": {
      "model_module": "@jupyter-widgets/controls",
      "model_module_version": "1.4.0",
      "model_name": "ProgressStyleModel",
      "state": {
       "description_width": "initial"
      }
     },
     "3703add63cc447938038206fe13b2933": {
      "model_module": "@jupyter-widgets/base",
      "model_module_version": "1.1.0",
      "model_name": "LayoutModel",
      "state": {}
     },
     "3860550958b041d295a916c1cdf1ab8c": {
      "model_module": "@jupyter-widgets/controls",
      "model_module_version": "1.4.0",
      "model_name": "ProgressStyleModel",
      "state": {
       "description_width": "initial"
      }
     },
     "3896c52d577f48b1999023d1cc58b8fe": {
      "model_module": "@jupyter-widgets/controls",
      "model_module_version": "1.4.0",
      "model_name": "HTMLModel",
      "state": {
       "layout": "IPY_MODEL_9b778df5d1704ffda45f8f453ac6b4f6",
       "style": "IPY_MODEL_cc87bba63dd742c5b2df547b601f0c1e",
       "value": "100% 9/9 [01:24&lt;00:00,  9.72s/it]"
      }
     },
     "3d17b864c33c475292fa06b275695f75": {
      "model_module": "@jupyter-widgets/base",
      "model_module_version": "1.1.0",
      "model_name": "LayoutModel",
      "state": {}
     },
     "3d60eb0e2a054f2e9af4099dc23ae832": {
      "model_module": "@jupyter-widgets/controls",
      "model_module_version": "1.4.0",
      "model_name": "IntProgressModel",
      "state": {
       "bar_style": "danger",
       "layout": "IPY_MODEL_00f7bece906340b5a5d376fe206803e4",
       "max": 4380,
       "style": "IPY_MODEL_4cd979b2d2454ff582003bb0d10ec79c",
       "value": 317
      }
     },
     "3e9a3c25e2be4e5b919d53f0b3986280": {
      "model_module": "@jupyter-widgets/controls",
      "model_module_version": "1.4.0",
      "model_name": "HBoxModel",
      "state": {
       "children": [
        "IPY_MODEL_a1765f5319994e36838d122ce52e58b0",
        "IPY_MODEL_2571f97ec8b84774944a4b7dadb1a186"
       ],
       "layout": "IPY_MODEL_2f4a8d7b5d164598828bd8f689e1a53e"
      }
     },
     "3f14ca85c19b4878aec039db3f12790c": {
      "model_module": "@jupyter-widgets/controls",
      "model_module_version": "1.4.0",
      "model_name": "HTMLModel",
      "state": {
       "layout": "IPY_MODEL_e21fe2afe6d84e87804dbd5eec478b68",
       "style": "IPY_MODEL_75d1479c0ff540e199add89ddd32fc56",
       "value": "100% 4/4 [06:35&lt;00:00, 105.88s/it]"
      }
     },
     "413721939d3d4868921bdf46ac9fe897": {
      "model_module": "@jupyter-widgets/controls",
      "model_module_version": "1.4.0",
      "model_name": "ProgressStyleModel",
      "state": {
       "description_width": "initial"
      }
     },
     "416f77f4c2c448f2894e80f4e7f5832d": {
      "model_module": "@jupyter-widgets/controls",
      "model_module_version": "1.4.0",
      "model_name": "DescriptionStyleModel",
      "state": {
       "description_width": ""
      }
     },
     "423375a858884f22be0920fbd269aa5a": {
      "model_module": "@jupyter-widgets/controls",
      "model_module_version": "1.4.0",
      "model_name": "DescriptionStyleModel",
      "state": {
       "description_width": ""
      }
     },
     "426010e00e2849289ef9759605b99e83": {
      "model_module": "@jupyter-widgets/controls",
      "model_module_version": "1.4.0",
      "model_name": "DescriptionStyleModel",
      "state": {
       "description_width": ""
      }
     },
     "4298558a227742aa90b5314722676941": {
      "model_module": "@jupyter-widgets/base",
      "model_module_version": "1.1.0",
      "model_name": "LayoutModel",
      "state": {}
     },
     "43b3f0fa15384bc7891a782763e40f48": {
      "model_module": "@jupyter-widgets/base",
      "model_module_version": "1.1.0",
      "model_name": "LayoutModel",
      "state": {}
     },
     "456085da8f504797bbb1fbccedb903aa": {
      "model_module": "@jupyter-widgets/controls",
      "model_module_version": "1.4.0",
      "model_name": "DescriptionStyleModel",
      "state": {
       "description_width": ""
      }
     },
     "456e55d2d86d4177a1253d7d6155c340": {
      "model_module": "@jupyter-widgets/controls",
      "model_module_version": "1.4.0",
      "model_name": "IntProgressModel",
      "state": {
       "description": "compression ratio",
       "layout": "IPY_MODEL_29817820412c4ab6bd0c5a3320d4cd1d",
       "max": 9,
       "style": "IPY_MODEL_29747ba8424f476a9099228481a254fc",
       "value": 9
      }
     },
     "465dde396125430f98d825c83fdf5939": {
      "model_module": "@jupyter-widgets/base",
      "model_module_version": "1.1.0",
      "model_name": "LayoutModel",
      "state": {}
     },
     "467dadab43b0476abbccd720067c8ead": {
      "model_module": "@jupyter-widgets/controls",
      "model_module_version": "1.4.0",
      "model_name": "ProgressStyleModel",
      "state": {
       "description_width": "initial"
      }
     },
     "469cf79bf6884995a58b38ca6584b62f": {
      "model_module": "@jupyter-widgets/controls",
      "model_module_version": "1.4.0",
      "model_name": "IntProgressModel",
      "state": {
       "description": "compression ratio",
       "layout": "IPY_MODEL_eab29c60d8a840f197da28e1c5731d71",
       "max": 9,
       "style": "IPY_MODEL_bd7cea4b3ccc46edb901da9f84d93415",
       "value": 9
      }
     },
     "46c1ac5981d3469ca242f9806781521f": {
      "model_module": "@jupyter-widgets/base",
      "model_module_version": "1.1.0",
      "model_name": "LayoutModel",
      "state": {}
     },
     "47a9f1c0675940cfa2a9e097646db445": {
      "model_module": "@jupyter-widgets/base",
      "model_module_version": "1.1.0",
      "model_name": "LayoutModel",
      "state": {}
     },
     "4a6799e454c44a22ba66619e81a1a32b": {
      "model_module": "@jupyter-widgets/base",
      "model_module_version": "1.1.0",
      "model_name": "LayoutModel",
      "state": {}
     },
     "4a8c9c31fd6b4d499d212a24e656b015": {
      "model_module": "@jupyter-widgets/base",
      "model_module_version": "1.1.0",
      "model_name": "LayoutModel",
      "state": {}
     },
     "4ad21a2d801c49bfbc67747b60e92c80": {
      "model_module": "@jupyter-widgets/controls",
      "model_module_version": "1.4.0",
      "model_name": "IntProgressModel",
      "state": {
       "bar_style": "success",
       "layout": "IPY_MODEL_12a2ff82672a47898a7f0c716b383bb0",
       "max": 924,
       "style": "IPY_MODEL_d6867f3f1cb24332adb38196223a28a2",
       "value": 924
      }
     },
     "4b0b287a9c564ea986ca5f9dc1afb5b1": {
      "model_module": "@jupyter-widgets/controls",
      "model_module_version": "1.4.0",
      "model_name": "ProgressStyleModel",
      "state": {
       "description_width": "initial"
      }
     },
     "4b4295cb975243bb93c54d1e50b37a3a": {
      "model_module": "@jupyter-widgets/controls",
      "model_module_version": "1.4.0",
      "model_name": "HBoxModel",
      "state": {
       "children": [
        "IPY_MODEL_74dfbb36a3ff4ea292331050196efa39",
        "IPY_MODEL_90e541cffdb842ed97ca1c89068394dc"
       ],
       "layout": "IPY_MODEL_7e264bc6b671443bb3b62e8428de3ecd"
      }
     },
     "4cd979b2d2454ff582003bb0d10ec79c": {
      "model_module": "@jupyter-widgets/controls",
      "model_module_version": "1.4.0",
      "model_name": "ProgressStyleModel",
      "state": {
       "description_width": ""
      }
     },
     "5490308fb49f4129a03a36c20eb5c112": {
      "model_module": "@jupyter-widgets/controls",
      "model_module_version": "1.4.0",
      "model_name": "IntProgressModel",
      "state": {
       "bar_style": "success",
       "layout": "IPY_MODEL_367f65cc7e46495881aace519e359113",
       "max": 256,
       "style": "IPY_MODEL_d4830e3c2eaa4155bcf2b0c4666e14da",
       "value": 256
      }
     },
     "5583627080dc4d98a312647bbf0a2da0": {
      "model_module": "@jupyter-widgets/controls",
      "model_module_version": "1.4.0",
      "model_name": "HBoxModel",
      "state": {
       "children": [
        "IPY_MODEL_4ad21a2d801c49bfbc67747b60e92c80",
        "IPY_MODEL_f5c33c9783954106ae621d7e835a1f56"
       ],
       "layout": "IPY_MODEL_a80ef1a4d5a84a0d91f52f36bd93bfbd"
      }
     },
     "564beb649e764d37a07e67afe69b3c94": {
      "model_module": "@jupyter-widgets/base",
      "model_module_version": "1.1.0",
      "model_name": "LayoutModel",
      "state": {}
     },
     "576ca8d1d7974f88902c4e2b4cebc8c9": {
      "model_module": "@jupyter-widgets/base",
      "model_module_version": "1.1.0",
      "model_name": "LayoutModel",
      "state": {}
     },
     "59a3d318b6c94010ab89a974a86f23a3": {
      "model_module": "@jupyter-widgets/controls",
      "model_module_version": "1.4.0",
      "model_name": "ProgressStyleModel",
      "state": {
       "description_width": "initial"
      }
     },
     "5a052c41642c4890af5be0f5561e82c6": {
      "model_module": "@jupyter-widgets/base",
      "model_module_version": "1.1.0",
      "model_name": "LayoutModel",
      "state": {}
     },
     "5b5241f2bc5142549173fc668a6a9fe9": {
      "model_module": "@jupyter-widgets/controls",
      "model_module_version": "1.4.0",
      "model_name": "IntProgressModel",
      "state": {
       "bar_style": "danger",
       "description": "subband",
       "layout": "IPY_MODEL_006fe07113a644c989039e6e6e6268dd",
       "max": 4,
       "style": "IPY_MODEL_59a3d318b6c94010ab89a974a86f23a3"
      }
     },
     "5d1162a703c2452db5bdf2cdd978ca98": {
      "model_module": "@jupyter-widgets/controls",
      "model_module_version": "1.4.0",
      "model_name": "HTMLModel",
      "state": {
       "layout": "IPY_MODEL_d3708e92bcf342329150e56862317e7e",
       "style": "IPY_MODEL_e107bc6fce224a3d9545eff3358c1c06",
       "value": "100% 9/9 [04:31&lt;00:00, 36.21s/it]"
      }
     },
     "5d8149b5a9ca45199b8b410fab0e7ce9": {
      "model_module": "@jupyter-widgets/controls",
      "model_module_version": "1.4.0",
      "model_name": "DescriptionStyleModel",
      "state": {
       "description_width": ""
      }
     },
     "5d90fb08408f45be9b0f4e55e7d41bdb": {
      "model_module": "@jupyter-widgets/base",
      "model_module_version": "1.1.0",
      "model_name": "LayoutModel",
      "state": {}
     },
     "5ebc2fb696ad449d8dd2f311641eb9da": {
      "model_module": "@jupyter-widgets/base",
      "model_module_version": "1.1.0",
      "model_name": "LayoutModel",
      "state": {}
     },
     "5f151994704241aab6aa29c4eeb4aa6f": {
      "model_module": "@jupyter-widgets/base",
      "model_module_version": "1.1.0",
      "model_name": "LayoutModel",
      "state": {}
     },
     "619c5b097c8945ca99c4d5335a1e58db": {
      "model_module": "@jupyter-widgets/base",
      "model_module_version": "1.1.0",
      "model_name": "LayoutModel",
      "state": {}
     },
     "6246b258773e4f869ed85daa0082d494": {
      "model_module": "@jupyter-widgets/controls",
      "model_module_version": "1.4.0",
      "model_name": "DescriptionStyleModel",
      "state": {
       "description_width": ""
      }
     },
     "64255e24212448faa2b90483a82e3890": {
      "model_module": "@jupyter-widgets/base",
      "model_module_version": "1.1.0",
      "model_name": "LayoutModel",
      "state": {}
     },
     "6489b58a84b34d95ae0d924878750508": {
      "model_module": "@jupyter-widgets/controls",
      "model_module_version": "1.4.0",
      "model_name": "ProgressStyleModel",
      "state": {
       "description_width": "initial"
      }
     },
     "64e1f5ab18b24663a15d707b27c2c0d6": {
      "model_module": "@jupyter-widgets/controls",
      "model_module_version": "1.4.0",
      "model_name": "IntProgressModel",
      "state": {
       "bar_style": "success",
       "layout": "IPY_MODEL_956c9a8af30b4d72af271c980a9ee45e",
       "max": 1911,
       "style": "IPY_MODEL_d5e97680982f4a68920d55a3e5b01b32",
       "value": 1911
      }
     },
     "653fb1929c824ccfb251354a6ac55bb3": {
      "model_module": "@jupyter-widgets/controls",
      "model_module_version": "1.4.0",
      "model_name": "IntProgressModel",
      "state": {
       "bar_style": "success",
       "layout": "IPY_MODEL_862f3b73d86b4012a0d997540d378778",
       "max": 1911,
       "style": "IPY_MODEL_8ac8139b6c644d0c97c6a8b025f469a3",
       "value": 1911
      }
     },
     "657efe5be6ef4c638e7ab5f999f25b52": {
      "model_module": "@jupyter-widgets/base",
      "model_module_version": "1.1.0",
      "model_name": "LayoutModel",
      "state": {}
     },
     "66c553b2e5984d018b622b42526cef83": {
      "model_module": "@jupyter-widgets/controls",
      "model_module_version": "1.4.0",
      "model_name": "IntProgressModel",
      "state": {
       "bar_style": "danger",
       "layout": "IPY_MODEL_5a052c41642c4890af5be0f5561e82c6",
       "max": 924,
       "style": "IPY_MODEL_8c661ed1f1484743b941b673c0cf8241",
       "value": 407
      }
     },
     "66f8524592f84e2cae5efe50685c7a75": {
      "model_module": "@jupyter-widgets/controls",
      "model_module_version": "1.4.0",
      "model_name": "ProgressStyleModel",
      "state": {
       "description_width": "initial"
      }
     },
     "6746b424c9004defaaaeaa77ef37ad91": {
      "model_module": "@jupyter-widgets/controls",
      "model_module_version": "1.4.0",
      "model_name": "HTMLModel",
      "state": {
       "layout": "IPY_MODEL_d9cd4ae3e6b94b78b426357cfced69bd",
       "style": "IPY_MODEL_28b7ce2e5dd84543b55fbf30a613878a",
       "value": "100% 1911/1911 [03:26&lt;00:00,  7.92it/s]"
      }
     },
     "685ae1116aba4b0b8fe80cad54c82087": {
      "model_module": "@jupyter-widgets/base",
      "model_module_version": "1.1.0",
      "model_name": "LayoutModel",
      "state": {}
     },
     "68b5e677426e48afb7e84c9724ba02e5": {
      "model_module": "@jupyter-widgets/controls",
      "model_module_version": "1.4.0",
      "model_name": "HBoxModel",
      "state": {
       "children": [
        "IPY_MODEL_aeff6b61dbdb48aa9b21e5cf83e6b463",
        "IPY_MODEL_8ccfd1479acc4066be63711eb56845a9"
       ],
       "layout": "IPY_MODEL_5f151994704241aab6aa29c4eeb4aa6f"
      }
     },
     "6b5ee68acee7409daf82f04eb9a11a8a": {
      "model_module": "@jupyter-widgets/controls",
      "model_module_version": "1.4.0",
      "model_name": "IntProgressModel",
      "state": {
       "bar_style": "danger",
       "layout": "IPY_MODEL_6dbbed8fa14e4ea99136d2658a87c5ad",
       "max": 4380,
       "style": "IPY_MODEL_eed9d8a13b134b35abdb85138abb9dbe",
       "value": 19
      }
     },
     "6bb76a1249b2427ab983844e00ac7c17": {
      "model_module": "@jupyter-widgets/base",
      "model_module_version": "1.1.0",
      "model_name": "LayoutModel",
      "state": {}
     },
     "6bc6ab0139c94000b517432c03123238": {
      "model_module": "@jupyter-widgets/controls",
      "model_module_version": "1.4.0",
      "model_name": "IntProgressModel",
      "state": {
       "description": "compression ratio",
       "layout": "IPY_MODEL_24bdcdb9f9824013850508b078427f27",
       "max": 9,
       "style": "IPY_MODEL_9bdabeb1c0d44ec2889df65a3faba262",
       "value": 9
      }
     },
     "6d529e8f53fd4a7b8077fdebfbfe6367": {
      "model_module": "@jupyter-widgets/base",
      "model_module_version": "1.1.0",
      "model_name": "LayoutModel",
      "state": {}
     },
     "6dbbed8fa14e4ea99136d2658a87c5ad": {
      "model_module": "@jupyter-widgets/base",
      "model_module_version": "1.1.0",
      "model_name": "LayoutModel",
      "state": {}
     },
     "6e4cd9ad6d7b42f4926bb1fdab004cf7": {
      "model_module": "@jupyter-widgets/controls",
      "model_module_version": "1.4.0",
      "model_name": "ProgressStyleModel",
      "state": {
       "description_width": "initial"
      }
     },
     "6ea5d2387a4b4571ad72490c47848e13": {
      "model_module": "@jupyter-widgets/controls",
      "model_module_version": "1.4.0",
      "model_name": "HTMLModel",
      "state": {
       "layout": "IPY_MODEL_dfe2bcae602745f9975498810e8f7ddc",
       "style": "IPY_MODEL_bde08ecbd4f348da9bd2ae50c4f77cb7",
       "value": "100% 9/9 [04:26&lt;00:00, 33.29s/it]"
      }
     },
     "6ed0fcb405324d1d97195c8ee7bf05f1": {
      "model_module": "@jupyter-widgets/base",
      "model_module_version": "1.1.0",
      "model_name": "LayoutModel",
      "state": {}
     },
     "6efd691259614b3f9108babe0646c7b8": {
      "model_module": "@jupyter-widgets/controls",
      "model_module_version": "1.4.0",
      "model_name": "DescriptionStyleModel",
      "state": {
       "description_width": ""
      }
     },
     "7123382299704213aee38c12d4548268": {
      "model_module": "@jupyter-widgets/base",
      "model_module_version": "1.1.0",
      "model_name": "LayoutModel",
      "state": {}
     },
     "74dfbb36a3ff4ea292331050196efa39": {
      "model_module": "@jupyter-widgets/controls",
      "model_module_version": "1.4.0",
      "model_name": "IntProgressModel",
      "state": {
       "bar_style": "danger",
       "description": "subband",
       "layout": "IPY_MODEL_3d17b864c33c475292fa06b275695f75",
       "max": 4,
       "style": "IPY_MODEL_3617b46fe070468f9dd8d88b5d936c87"
      }
     },
     "7516677e89f34d9c92576a4d2a7d17ff": {
      "model_module": "@jupyter-widgets/controls",
      "model_module_version": "1.4.0",
      "model_name": "IntProgressModel",
      "state": {
       "description": "compression ratio",
       "layout": "IPY_MODEL_2871e1ffce404ed4b8e06ca7a25d3cfd",
       "max": 9,
       "style": "IPY_MODEL_a75fe959adb342e29ab660c18c56b2e0",
       "value": 9
      }
     },
     "757ae45340ca4223a1944ccd1b6105dd": {
      "model_module": "@jupyter-widgets/base",
      "model_module_version": "1.1.0",
      "model_name": "LayoutModel",
      "state": {}
     },
     "75d1479c0ff540e199add89ddd32fc56": {
      "model_module": "@jupyter-widgets/controls",
      "model_module_version": "1.4.0",
      "model_name": "DescriptionStyleModel",
      "state": {
       "description_width": ""
      }
     },
     "7601487a550b42b28df3dcd5588d39d8": {
      "model_module": "@jupyter-widgets/controls",
      "model_module_version": "1.4.0",
      "model_name": "DescriptionStyleModel",
      "state": {
       "description_width": ""
      }
     },
     "7764d05d9ab5453b950c2854fc9c7b7f": {
      "model_module": "@jupyter-widgets/base",
      "model_module_version": "1.1.0",
      "model_name": "LayoutModel",
      "state": {}
     },
     "7a5686ab8aee4bbcbce598c82a1fb4a1": {
      "model_module": "@jupyter-widgets/controls",
      "model_module_version": "1.4.0",
      "model_name": "HBoxModel",
      "state": {
       "children": [
        "IPY_MODEL_3d60eb0e2a054f2e9af4099dc23ae832",
        "IPY_MODEL_d2ff5d37a0ca4bfcb93823a864742cec"
       ],
       "layout": "IPY_MODEL_07c4275fa99242f1b5d6291b47e6575c"
      }
     },
     "7b17e055a43a48e0bca8e81cc2c6627e": {
      "model_module": "@jupyter-widgets/base",
      "model_module_version": "1.1.0",
      "model_name": "LayoutModel",
      "state": {}
     },
     "7b2321182fc74cffa5a105c376d137f8": {
      "model_module": "@jupyter-widgets/base",
      "model_module_version": "1.1.0",
      "model_name": "LayoutModel",
      "state": {}
     },
     "7e264bc6b671443bb3b62e8428de3ecd": {
      "model_module": "@jupyter-widgets/base",
      "model_module_version": "1.1.0",
      "model_name": "LayoutModel",
      "state": {}
     },
     "7ec40531b13f4c8d8c06efb67f64b34a": {
      "model_module": "@jupyter-widgets/controls",
      "model_module_version": "1.4.0",
      "model_name": "IntProgressModel",
      "state": {
       "description": "compression ratio",
       "layout": "IPY_MODEL_b94f0fae049a4745bea8232f32de0ba3",
       "max": 9,
       "style": "IPY_MODEL_66f8524592f84e2cae5efe50685c7a75",
       "value": 9
      }
     },
     "7ee013c4553e4367bbadb741b5b04f9f": {
      "model_module": "@jupyter-widgets/controls",
      "model_module_version": "1.4.0",
      "model_name": "ProgressStyleModel",
      "state": {
       "description_width": "initial"
      }
     },
     "80298cf5ab4245f29ce43ece44053a4e": {
      "model_module": "@jupyter-widgets/controls",
      "model_module_version": "1.4.0",
      "model_name": "HTMLModel",
      "state": {
       "layout": "IPY_MODEL_90106c7aa86843e9ab0274fa8b088fce",
       "style": "IPY_MODEL_dc4f9e419b2a47e39fd48e377238446c",
       "value": "100% 4/4 [07:09&lt;00:00, 114.56s/it]"
      }
     },
     "8074b7df7fbe4918bee584ad3ba9d3a5": {
      "model_module": "@jupyter-widgets/base",
      "model_module_version": "1.1.0",
      "model_name": "LayoutModel",
      "state": {}
     },
     "813d7d3bc2fb43c5a98d31613d1563ce": {
      "model_module": "@jupyter-widgets/base",
      "model_module_version": "1.1.0",
      "model_name": "LayoutModel",
      "state": {}
     },
     "8206f9f529d948ffa79111cb6abea00e": {
      "model_module": "@jupyter-widgets/base",
      "model_module_version": "1.1.0",
      "model_name": "LayoutModel",
      "state": {}
     },
     "82224f9dc05344de9dfa05d174933dc8": {
      "model_module": "@jupyter-widgets/base",
      "model_module_version": "1.1.0",
      "model_name": "LayoutModel",
      "state": {}
     },
     "82ca392b6cc044139943909bd35105f0": {
      "model_module": "@jupyter-widgets/base",
      "model_module_version": "1.1.0",
      "model_name": "LayoutModel",
      "state": {}
     },
     "84df0751c9e24e9b9a0c892a0d6d7beb": {
      "model_module": "@jupyter-widgets/controls",
      "model_module_version": "1.4.0",
      "model_name": "HTMLModel",
      "state": {
       "layout": "IPY_MODEL_9427890576cb4d05a8fa4f149d093dc6",
       "style": "IPY_MODEL_0fa7a4706e634c349261a4c43d5387b6",
       "value": "100% 9/9 [00:40&lt;00:00,  4.11s/it]"
      }
     },
     "862f3b73d86b4012a0d997540d378778": {
      "model_module": "@jupyter-widgets/base",
      "model_module_version": "1.1.0",
      "model_name": "LayoutModel",
      "state": {}
     },
     "884f9b96f19f480b9e9ad5c596ef53cc": {
      "model_module": "@jupyter-widgets/base",
      "model_module_version": "1.1.0",
      "model_name": "LayoutModel",
      "state": {}
     },
     "88bc8a439eff4c06af19ec9a0a8ad938": {
      "model_module": "@jupyter-widgets/base",
      "model_module_version": "1.1.0",
      "model_name": "LayoutModel",
      "state": {}
     },
     "894363f172184b0e8987814cd411c19f": {
      "model_module": "@jupyter-widgets/base",
      "model_module_version": "1.1.0",
      "model_name": "LayoutModel",
      "state": {}
     },
     "8ac8139b6c644d0c97c6a8b025f469a3": {
      "model_module": "@jupyter-widgets/controls",
      "model_module_version": "1.4.0",
      "model_name": "ProgressStyleModel",
      "state": {
       "description_width": ""
      }
     },
     "8baa7813329e479eafea455ff7a4a3f7": {
      "model_module": "@jupyter-widgets/controls",
      "model_module_version": "1.4.0",
      "model_name": "ProgressStyleModel",
      "state": {
       "description_width": "initial"
      }
     },
     "8bb3a02d89f2412993152c6b020c2343": {
      "model_module": "@jupyter-widgets/base",
      "model_module_version": "1.1.0",
      "model_name": "LayoutModel",
      "state": {}
     },
     "8c661ed1f1484743b941b673c0cf8241": {
      "model_module": "@jupyter-widgets/controls",
      "model_module_version": "1.4.0",
      "model_name": "ProgressStyleModel",
      "state": {
       "description_width": ""
      }
     },
     "8c700868ffb84384a6281be4fda14b0b": {
      "model_module": "@jupyter-widgets/base",
      "model_module_version": "1.1.0",
      "model_name": "LayoutModel",
      "state": {}
     },
     "8c86dee7d35246179b03a243549c7bff": {
      "model_module": "@jupyter-widgets/controls",
      "model_module_version": "1.4.0",
      "model_name": "ProgressStyleModel",
      "state": {
       "description_width": ""
      }
     },
     "8ccfd1479acc4066be63711eb56845a9": {
      "model_module": "@jupyter-widgets/controls",
      "model_module_version": "1.4.0",
      "model_name": "HTMLModel",
      "state": {
       "layout": "IPY_MODEL_fecefd91aceb43359707a012f651057e",
       "style": "IPY_MODEL_090e37af3c98490e93c9fae7e69a4914",
       "value": "100% 1911/1911 [06:42&lt;00:00,  6.26it/s]"
      }
     },
     "8de3f9cc74f844f5a86ce3003174b233": {
      "model_module": "@jupyter-widgets/base",
      "model_module_version": "1.1.0",
      "model_name": "LayoutModel",
      "state": {}
     },
     "8ee5e69b78c04564a0d946135d95c909": {
      "model_module": "@jupyter-widgets/controls",
      "model_module_version": "1.4.0",
      "model_name": "ProgressStyleModel",
      "state": {
       "description_width": ""
      }
     },
     "8faf261755104439b9f7e18e5f04acf5": {
      "model_module": "@jupyter-widgets/controls",
      "model_module_version": "1.4.0",
      "model_name": "HBoxModel",
      "state": {
       "children": [
        "IPY_MODEL_66c553b2e5984d018b622b42526cef83",
        "IPY_MODEL_304c63c6d3a4452ca63a2167278fb264"
       ],
       "layout": "IPY_MODEL_e7b13380db7b402fa06362f1f303224c"
      }
     },
     "8ffebb16cb6b4e8b82da0845585d1ae5": {
      "model_module": "@jupyter-widgets/base",
      "model_module_version": "1.1.0",
      "model_name": "LayoutModel",
      "state": {}
     },
     "90106c7aa86843e9ab0274fa8b088fce": {
      "model_module": "@jupyter-widgets/base",
      "model_module_version": "1.1.0",
      "model_name": "LayoutModel",
      "state": {}
     },
     "90e541cffdb842ed97ca1c89068394dc": {
      "model_module": "@jupyter-widgets/controls",
      "model_module_version": "1.4.0",
      "model_name": "HTMLModel",
      "state": {
       "layout": "IPY_MODEL_a5bb00c6a42a424087cc5d3104ea15e5",
       "style": "IPY_MODEL_02a15b1ed1274a48b7e13409d6e55cd6",
       "value": "  0% 0/4 [00:00&lt;?, ?it/s]"
      }
     },
     "90ea340def124e048fa296da7e2ad307": {
      "model_module": "@jupyter-widgets/base",
      "model_module_version": "1.1.0",
      "model_name": "LayoutModel",
      "state": {}
     },
     "93058a88dfab43d88a952e8317859b9a": {
      "model_module": "@jupyter-widgets/controls",
      "model_module_version": "1.4.0",
      "model_name": "DescriptionStyleModel",
      "state": {
       "description_width": ""
      }
     },
     "93614cb16f604fa98eed75fb6e842404": {
      "model_module": "@jupyter-widgets/controls",
      "model_module_version": "1.4.0",
      "model_name": "ProgressStyleModel",
      "state": {
       "description_width": "initial"
      }
     },
     "937b85945ba84577932620838dbe9dcc": {
      "model_module": "@jupyter-widgets/controls",
      "model_module_version": "1.4.0",
      "model_name": "ProgressStyleModel",
      "state": {
       "description_width": "initial"
      }
     },
     "9427890576cb4d05a8fa4f149d093dc6": {
      "model_module": "@jupyter-widgets/base",
      "model_module_version": "1.1.0",
      "model_name": "LayoutModel",
      "state": {}
     },
     "94525e476aa04d6292fed4cbe18c8af3": {
      "model_module": "@jupyter-widgets/controls",
      "model_module_version": "1.4.0",
      "model_name": "IntProgressModel",
      "state": {
       "description": "compression ratio",
       "layout": "IPY_MODEL_9aee552ad7f3429c8cd9d9be22ede26f",
       "max": 9,
       "style": "IPY_MODEL_93614cb16f604fa98eed75fb6e842404",
       "value": 9
      }
     },
     "94909db336ef4851a190ab00b0970f17": {
      "model_module": "@jupyter-widgets/controls",
      "model_module_version": "1.4.0",
      "model_name": "DescriptionStyleModel",
      "state": {
       "description_width": ""
      }
     },
     "956c9a8af30b4d72af271c980a9ee45e": {
      "model_module": "@jupyter-widgets/base",
      "model_module_version": "1.1.0",
      "model_name": "LayoutModel",
      "state": {}
     },
     "95849bd1a18f4302899bdde86024fc91": {
      "model_module": "@jupyter-widgets/controls",
      "model_module_version": "1.4.0",
      "model_name": "HBoxModel",
      "state": {
       "children": [
        "IPY_MODEL_fef51e6ce08b4f9ebfc7dcee95432a04",
        "IPY_MODEL_e4b2a380b0f0436ca985c489668f6224"
       ],
       "layout": "IPY_MODEL_9f2f0c1d5c914eca9a8eca37fe735f13"
      }
     },
     "9649b5b55753442bbdb3520e79cc3f56": {
      "model_module": "@jupyter-widgets/controls",
      "model_module_version": "1.4.0",
      "model_name": "DescriptionStyleModel",
      "state": {
       "description_width": ""
      }
     },
     "969fc98d82ab4d80b969145518dd72c6": {
      "model_module": "@jupyter-widgets/controls",
      "model_module_version": "1.4.0",
      "model_name": "DescriptionStyleModel",
      "state": {
       "description_width": ""
      }
     },
     "9806178f913440929a631ddec3c60be1": {
      "model_module": "@jupyter-widgets/base",
      "model_module_version": "1.1.0",
      "model_name": "LayoutModel",
      "state": {}
     },
     "994635efb61c48b6b913de5a08291649": {
      "model_module": "@jupyter-widgets/base",
      "model_module_version": "1.1.0",
      "model_name": "LayoutModel",
      "state": {}
     },
     "9a821b64d9f94a00a7811c2c6e553da0": {
      "model_module": "@jupyter-widgets/controls",
      "model_module_version": "1.4.0",
      "model_name": "IntProgressModel",
      "state": {
       "bar_style": "danger",
       "description": "compression ratio",
       "layout": "IPY_MODEL_293ed6a9fddc434a855bec89b9faef08",
       "max": 9,
       "style": "IPY_MODEL_3860550958b041d295a916c1cdf1ab8c"
      }
     },
     "9aee552ad7f3429c8cd9d9be22ede26f": {
      "model_module": "@jupyter-widgets/base",
      "model_module_version": "1.1.0",
      "model_name": "LayoutModel",
      "state": {}
     },
     "9b246de3690c4b7d95cf74965f146da9": {
      "model_module": "@jupyter-widgets/controls",
      "model_module_version": "1.4.0",
      "model_name": "IntProgressModel",
      "state": {
       "bar_style": "success",
       "description": "subband",
       "layout": "IPY_MODEL_4a6799e454c44a22ba66619e81a1a32b",
       "max": 4,
       "style": "IPY_MODEL_e0db5298fef94619ab80d2a761cc6c06",
       "value": 4
      }
     },
     "9b778df5d1704ffda45f8f453ac6b4f6": {
      "model_module": "@jupyter-widgets/base",
      "model_module_version": "1.1.0",
      "model_name": "LayoutModel",
      "state": {}
     },
     "9bb93ea526d946b4b24e4dc346155aa5": {
      "model_module": "@jupyter-widgets/base",
      "model_module_version": "1.1.0",
      "model_name": "LayoutModel",
      "state": {}
     },
     "9bbf41a3c5bb45f48a55fd4647c5adcf": {
      "model_module": "@jupyter-widgets/controls",
      "model_module_version": "1.4.0",
      "model_name": "IntProgressModel",
      "state": {
       "bar_style": "success",
       "layout": "IPY_MODEL_657efe5be6ef4c638e7ab5f999f25b52",
       "max": 924,
       "style": "IPY_MODEL_32b642b867e54c3c9ff852b21259c2cc",
       "value": 924
      }
     },
     "9bdabeb1c0d44ec2889df65a3faba262": {
      "model_module": "@jupyter-widgets/controls",
      "model_module_version": "1.4.0",
      "model_name": "ProgressStyleModel",
      "state": {
       "description_width": "initial"
      }
     },
     "9c8f268c87f944b48ab1dbbb1ae2d4d9": {
      "model_module": "@jupyter-widgets/base",
      "model_module_version": "1.1.0",
      "model_name": "LayoutModel",
      "state": {}
     },
     "9d8cacf493a6471cb58f1a51d2d1dc68": {
      "model_module": "@jupyter-widgets/controls",
      "model_module_version": "1.4.0",
      "model_name": "HBoxModel",
      "state": {
       "children": [
        "IPY_MODEL_d2dac4ec30904e95b10afe439d07b923",
        "IPY_MODEL_b218838dc9ca49c68aaeb9e985f4a944"
       ],
       "layout": "IPY_MODEL_d65426b00a724cbeb28e537621257a50"
      }
     },
     "9e7d786fc4bf45eab1fa2ab8c084209d": {
      "model_module": "@jupyter-widgets/controls",
      "model_module_version": "1.4.0",
      "model_name": "IntProgressModel",
      "state": {
       "description": "compression ratio",
       "layout": "IPY_MODEL_5ebc2fb696ad449d8dd2f311641eb9da",
       "max": 9,
       "style": "IPY_MODEL_6e4cd9ad6d7b42f4926bb1fdab004cf7",
       "value": 9
      }
     },
     "9eed1e5f098c4cc7a83d32fb464f7f5f": {
      "model_module": "@jupyter-widgets/controls",
      "model_module_version": "1.4.0",
      "model_name": "HTMLModel",
      "state": {
       "layout": "IPY_MODEL_9bb93ea526d946b4b24e4dc346155aa5",
       "style": "IPY_MODEL_eddcde37809a446587809529fa772ea9",
       "value": "100% 1911/1911 [02:33&lt;00:00, 16.41it/s]"
      }
     },
     "9f2f0c1d5c914eca9a8eca37fe735f13": {
      "model_module": "@jupyter-widgets/base",
      "model_module_version": "1.1.0",
      "model_name": "LayoutModel",
      "state": {}
     },
     "a11f32c8729e404895a3f060836fa52c": {
      "model_module": "@jupyter-widgets/controls",
      "model_module_version": "1.4.0",
      "model_name": "DescriptionStyleModel",
      "state": {
       "description_width": ""
      }
     },
     "a1765f5319994e36838d122ce52e58b0": {
      "model_module": "@jupyter-widgets/controls",
      "model_module_version": "1.4.0",
      "model_name": "IntProgressModel",
      "state": {
       "bar_style": "danger",
       "description": "compression ratio",
       "layout": "IPY_MODEL_1c7eb1b35539498795e0f2f2e7a96dd3",
       "max": 9,
       "style": "IPY_MODEL_be797a942f5442d590dbf7562cfb8058",
       "value": 2
      }
     },
     "a17b1b07aed841d99b347f343c7ba1f6": {
      "model_module": "@jupyter-widgets/controls",
      "model_module_version": "1.4.0",
      "model_name": "HBoxModel",
      "state": {
       "children": [
        "IPY_MODEL_5490308fb49f4129a03a36c20eb5c112",
        "IPY_MODEL_f76993cbdca3413d8ad91d491bd48958"
       ],
       "layout": "IPY_MODEL_813d7d3bc2fb43c5a98d31613d1563ce"
      }
     },
     "a2069c0c026249b6a98496c9403cba3b": {
      "model_module": "@jupyter-widgets/base",
      "model_module_version": "1.1.0",
      "model_name": "LayoutModel",
      "state": {}
     },
     "a30554500e034cfc80300f639512d219": {
      "model_module": "@jupyter-widgets/controls",
      "model_module_version": "1.4.0",
      "model_name": "DescriptionStyleModel",
      "state": {
       "description_width": ""
      }
     },
     "a33c12a881894f2099f11edce6849a38": {
      "model_module": "@jupyter-widgets/base",
      "model_module_version": "1.1.0",
      "model_name": "LayoutModel",
      "state": {}
     },
     "a37d8cb70c1a49c6b3837a996d14bf80": {
      "model_module": "@jupyter-widgets/controls",
      "model_module_version": "1.4.0",
      "model_name": "HTMLModel",
      "state": {
       "layout": "IPY_MODEL_1c0154e22d0d411fa5c052920666435d",
       "style": "IPY_MODEL_b69324455e4f47789c5589eb77b03204",
       "value": "100% 9/9 [01:27&lt;00:00,  9.82s/it]"
      }
     },
     "a4d5701db05f49c3a5a03f5fd0108a08": {
      "model_module": "@jupyter-widgets/controls",
      "model_module_version": "1.4.0",
      "model_name": "HTMLModel",
      "state": {
       "layout": "IPY_MODEL_a9b635fd48ba49958dfb031024596b16",
       "style": "IPY_MODEL_5d8149b5a9ca45199b8b410fab0e7ce9",
       "value": "100% 9/9 [00:44&lt;00:00,  5.27s/it]"
      }
     },
     "a587b0eb4fdc431e994f32358f225a17": {
      "model_module": "@jupyter-widgets/controls",
      "model_module_version": "1.4.0",
      "model_name": "DescriptionStyleModel",
      "state": {
       "description_width": ""
      }
     },
     "a5bb00c6a42a424087cc5d3104ea15e5": {
      "model_module": "@jupyter-widgets/base",
      "model_module_version": "1.1.0",
      "model_name": "LayoutModel",
      "state": {}
     },
     "a756778b154b46e1a498f044a1e0c1be": {
      "model_module": "@jupyter-widgets/base",
      "model_module_version": "1.1.0",
      "model_name": "LayoutModel",
      "state": {}
     },
     "a75fe959adb342e29ab660c18c56b2e0": {
      "model_module": "@jupyter-widgets/controls",
      "model_module_version": "1.4.0",
      "model_name": "ProgressStyleModel",
      "state": {
       "description_width": "initial"
      }
     },
     "a7e0d225eb014ecebba830bc4da026ff": {
      "model_module": "@jupyter-widgets/controls",
      "model_module_version": "1.4.0",
      "model_name": "DescriptionStyleModel",
      "state": {
       "description_width": ""
      }
     },
     "a80ef1a4d5a84a0d91f52f36bd93bfbd": {
      "model_module": "@jupyter-widgets/base",
      "model_module_version": "1.1.0",
      "model_name": "LayoutModel",
      "state": {}
     },
     "a9b635fd48ba49958dfb031024596b16": {
      "model_module": "@jupyter-widgets/base",
      "model_module_version": "1.1.0",
      "model_name": "LayoutModel",
      "state": {}
     },
     "aa94e5418d0144b78dea18e64b084eba": {
      "model_module": "@jupyter-widgets/controls",
      "model_module_version": "1.4.0",
      "model_name": "IntProgressModel",
      "state": {
       "description": "compression ratio",
       "layout": "IPY_MODEL_bf72611211c5420a90420441bc26a0b9",
       "max": 9,
       "style": "IPY_MODEL_6489b58a84b34d95ae0d924878750508",
       "value": 9
      }
     },
     "ac40cda1040b4113baa0d82b84e0e696": {
      "model_module": "@jupyter-widgets/base",
      "model_module_version": "1.1.0",
      "model_name": "LayoutModel",
      "state": {}
     },
     "adeffaced3834906bcad06b669149fe1": {
      "model_module": "@jupyter-widgets/controls",
      "model_module_version": "1.4.0",
      "model_name": "IntProgressModel",
      "state": {
       "description": "compression ratio",
       "layout": "IPY_MODEL_ac40cda1040b4113baa0d82b84e0e696",
       "max": 9,
       "style": "IPY_MODEL_413721939d3d4868921bdf46ac9fe897",
       "value": 9
      }
     },
     "ae06ac84c2fe4aefaae8959ac9e59c09": {
      "model_module": "@jupyter-widgets/controls",
      "model_module_version": "1.4.0",
      "model_name": "HTMLModel",
      "state": {
       "layout": "IPY_MODEL_8c700868ffb84384a6281be4fda14b0b",
       "style": "IPY_MODEL_fba33cb1d9d840bca16781f5d06e31cf",
       "value": "100% 9/9 [00:41&lt;00:00,  4.59s/it]"
      }
     },
     "aeff6b61dbdb48aa9b21e5cf83e6b463": {
      "model_module": "@jupyter-widgets/controls",
      "model_module_version": "1.4.0",
      "model_name": "IntProgressModel",
      "state": {
       "bar_style": "success",
       "layout": "IPY_MODEL_baf13abbe64848c0b21736c40a82f505",
       "max": 1911,
       "style": "IPY_MODEL_8c86dee7d35246179b03a243549c7bff",
       "value": 1911
      }
     },
     "b19a655a163448ae931097c40d42e04e": {
      "model_module": "@jupyter-widgets/controls",
      "model_module_version": "1.4.0",
      "model_name": "HBoxModel",
      "state": {
       "children": [
        "IPY_MODEL_fa5edef4b46a456aa1db9aded5e634d9",
        "IPY_MODEL_80298cf5ab4245f29ce43ece44053a4e"
       ],
       "layout": "IPY_MODEL_fb47e04c7121414893e2015363e396d5"
      }
     },
     "b218838dc9ca49c68aaeb9e985f4a944": {
      "model_module": "@jupyter-widgets/controls",
      "model_module_version": "1.4.0",
      "model_name": "HTMLModel",
      "state": {
       "layout": "IPY_MODEL_6bb76a1249b2427ab983844e00ac7c17",
       "style": "IPY_MODEL_a30554500e034cfc80300f639512d219",
       "value": "100% 4/4 [07:47&lt;00:00, 123.82s/it]"
      }
     },
     "b2896d66f92d49ceb4bb65e15e8a1028": {
      "model_module": "@jupyter-widgets/controls",
      "model_module_version": "1.4.0",
      "model_name": "HTMLModel",
      "state": {
       "layout": "IPY_MODEL_be0bca8c356f4449ac73352e4615c5f9",
       "style": "IPY_MODEL_ced828a88e5d4b8287df27a3a70bedc4",
       "value": "100% 9/9 [01:10&lt;00:00,  7.33s/it]"
      }
     },
     "b2983368ac254b0baca35b5526c36655": {
      "model_module": "@jupyter-widgets/base",
      "model_module_version": "1.1.0",
      "model_name": "LayoutModel",
      "state": {}
     },
     "b2bbd368cffa47c28886948f112d2043": {
      "model_module": "@jupyter-widgets/base",
      "model_module_version": "1.1.0",
      "model_name": "LayoutModel",
      "state": {}
     },
     "b332d315ccf04812aa44c69c8d8a8938": {
      "model_module": "@jupyter-widgets/controls",
      "model_module_version": "1.4.0",
      "model_name": "DescriptionStyleModel",
      "state": {
       "description_width": ""
      }
     },
     "b69324455e4f47789c5589eb77b03204": {
      "model_module": "@jupyter-widgets/controls",
      "model_module_version": "1.4.0",
      "model_name": "DescriptionStyleModel",
      "state": {
       "description_width": ""
      }
     },
     "b6a644c832ca45909b7afba59c5e2364": {
      "model_module": "@jupyter-widgets/base",
      "model_module_version": "1.1.0",
      "model_name": "LayoutModel",
      "state": {}
     },
     "b6fe313cfb64478bbff1a1a28336efeb": {
      "model_module": "@jupyter-widgets/controls",
      "model_module_version": "1.4.0",
      "model_name": "HTMLModel",
      "state": {
       "layout": "IPY_MODEL_27db8518e00844d5afd6306a3faa81c4",
       "style": "IPY_MODEL_7601487a550b42b28df3dcd5588d39d8",
       "value": "100% 4/4 [07:11&lt;00:00, 112.40s/it]"
      }
     },
     "b880c0b59c5545fcbcaa176bb0100629": {
      "model_module": "@jupyter-widgets/controls",
      "model_module_version": "1.4.0",
      "model_name": "HBoxModel",
      "state": {
       "children": [
        "IPY_MODEL_5b5241f2bc5142549173fc668a6a9fe9",
        "IPY_MODEL_fa7274f778cb4f7fb29482b3d6ec7281"
       ],
       "layout": "IPY_MODEL_9806178f913440929a631ddec3c60be1"
      }
     },
     "b94f0fae049a4745bea8232f32de0ba3": {
      "model_module": "@jupyter-widgets/base",
      "model_module_version": "1.1.0",
      "model_name": "LayoutModel",
      "state": {}
     },
     "baf13abbe64848c0b21736c40a82f505": {
      "model_module": "@jupyter-widgets/base",
      "model_module_version": "1.1.0",
      "model_name": "LayoutModel",
      "state": {}
     },
     "baf3bb8c17a046ec97644ed212b288bf": {
      "model_module": "@jupyter-widgets/controls",
      "model_module_version": "1.4.0",
      "model_name": "HTMLModel",
      "state": {
       "layout": "IPY_MODEL_3501fefd6c6c4e04ac7a22489380ef3e",
       "style": "IPY_MODEL_6efd691259614b3f9108babe0646c7b8",
       "value": "100% 9/9 [01:32&lt;00:00, 10.83s/it]"
      }
     },
     "bb3da953fea94d6c9637394c7737979e": {
      "model_module": "@jupyter-widgets/base",
      "model_module_version": "1.1.0",
      "model_name": "LayoutModel",
      "state": {}
     },
     "bc3f0b63b51f47c0923e696ac084c0ba": {
      "model_module": "@jupyter-widgets/base",
      "model_module_version": "1.1.0",
      "model_name": "LayoutModel",
      "state": {}
     },
     "bd0f651a1aba4034a180aad6101a86a9": {
      "model_module": "@jupyter-widgets/controls",
      "model_module_version": "1.4.0",
      "model_name": "IntProgressModel",
      "state": {
       "bar_style": "success",
       "description": "subband",
       "layout": "IPY_MODEL_139d53064be04128b4360b26aef6bb5c",
       "max": 4,
       "style": "IPY_MODEL_bfb52b0c6bb14233a4db67638e6e799b",
       "value": 4
      }
     },
     "bd6c9953a5144726988cb9cdf6180cd9": {
      "model_module": "@jupyter-widgets/controls",
      "model_module_version": "1.4.0",
      "model_name": "DescriptionStyleModel",
      "state": {
       "description_width": ""
      }
     },
     "bd7cea4b3ccc46edb901da9f84d93415": {
      "model_module": "@jupyter-widgets/controls",
      "model_module_version": "1.4.0",
      "model_name": "ProgressStyleModel",
      "state": {
       "description_width": "initial"
      }
     },
     "bde08ecbd4f348da9bd2ae50c4f77cb7": {
      "model_module": "@jupyter-widgets/controls",
      "model_module_version": "1.4.0",
      "model_name": "DescriptionStyleModel",
      "state": {
       "description_width": ""
      }
     },
     "bdf14d0ac11747ccbeb272f3c24594aa": {
      "model_module": "@jupyter-widgets/controls",
      "model_module_version": "1.4.0",
      "model_name": "IntProgressModel",
      "state": {
       "bar_style": "success",
       "layout": "IPY_MODEL_e3e843709013484199f26da60621bd52",
       "max": 112,
       "style": "IPY_MODEL_d9985029816f482f959082a4d8efc860",
       "value": 112
      }
     },
     "be0bca8c356f4449ac73352e4615c5f9": {
      "model_module": "@jupyter-widgets/base",
      "model_module_version": "1.1.0",
      "model_name": "LayoutModel",
      "state": {}
     },
     "be797a942f5442d590dbf7562cfb8058": {
      "model_module": "@jupyter-widgets/controls",
      "model_module_version": "1.4.0",
      "model_name": "ProgressStyleModel",
      "state": {
       "description_width": "initial"
      }
     },
     "be91e58fcdc544e5a6b39d98987e36ac": {
      "model_module": "@jupyter-widgets/controls",
      "model_module_version": "1.4.0",
      "model_name": "HTMLModel",
      "state": {
       "layout": "IPY_MODEL_3703add63cc447938038206fe13b2933",
       "style": "IPY_MODEL_b332d315ccf04812aa44c69c8d8a8938",
       "value": "  0% 0/9 [00:00&lt;?, ?it/s]"
      }
     },
     "beb33f8313d745faae6a8b59c9a6901f": {
      "model_module": "@jupyter-widgets/controls",
      "model_module_version": "1.4.0",
      "model_name": "IntProgressModel",
      "state": {
       "description": "compression ratio",
       "layout": "IPY_MODEL_df7de832e2c44be6ba19593ffdeabb16",
       "max": 9,
       "style": "IPY_MODEL_310d78dc833946d2b1c4665e8a26e218",
       "value": 9
      }
     },
     "bf72611211c5420a90420441bc26a0b9": {
      "model_module": "@jupyter-widgets/base",
      "model_module_version": "1.1.0",
      "model_name": "LayoutModel",
      "state": {}
     },
     "bfb52b0c6bb14233a4db67638e6e799b": {
      "model_module": "@jupyter-widgets/controls",
      "model_module_version": "1.4.0",
      "model_name": "ProgressStyleModel",
      "state": {
       "description_width": "initial"
      }
     },
     "bff11a16d7474b029dd221fb77662bc1": {
      "model_module": "@jupyter-widgets/base",
      "model_module_version": "1.1.0",
      "model_name": "LayoutModel",
      "state": {}
     },
     "c05d55db9d5a46cfb201184b9bd1a832": {
      "model_module": "@jupyter-widgets/base",
      "model_module_version": "1.1.0",
      "model_name": "LayoutModel",
      "state": {}
     },
     "c17da3e9f6da4d119194623f3e19fbb9": {
      "model_module": "@jupyter-widgets/base",
      "model_module_version": "1.1.0",
      "model_name": "LayoutModel",
      "state": {}
     },
     "c4a075299b9c4602b4cf6ac001fc3ef3": {
      "model_module": "@jupyter-widgets/controls",
      "model_module_version": "1.4.0",
      "model_name": "ProgressStyleModel",
      "state": {
       "description_width": "initial"
      }
     },
     "c7503aa75c1c47b3b2877334322b5960": {
      "model_module": "@jupyter-widgets/controls",
      "model_module_version": "1.4.0",
      "model_name": "IntProgressModel",
      "state": {
       "description": "compression ratio",
       "layout": "IPY_MODEL_04e3445eb85747ad9593f9a80466e5e3",
       "max": 9,
       "style": "IPY_MODEL_467dadab43b0476abbccd720067c8ead",
       "value": 9
      }
     },
     "ca32ac3c46ea45eaa614f4814a5aa024": {
      "model_module": "@jupyter-widgets/controls",
      "model_module_version": "1.4.0",
      "model_name": "ProgressStyleModel",
      "state": {
       "description_width": "initial"
      }
     },
     "cba3c56f6b2c45cdaf5d8d7a9de35187": {
      "model_module": "@jupyter-widgets/base",
      "model_module_version": "1.1.0",
      "model_name": "LayoutModel",
      "state": {}
     },
     "cc87bba63dd742c5b2df547b601f0c1e": {
      "model_module": "@jupyter-widgets/controls",
      "model_module_version": "1.4.0",
      "model_name": "DescriptionStyleModel",
      "state": {
       "description_width": ""
      }
     },
     "cda50bbf0cfb4630817bbe76e11cf064": {
      "model_module": "@jupyter-widgets/base",
      "model_module_version": "1.1.0",
      "model_name": "LayoutModel",
      "state": {}
     },
     "ce395de2435d4b60b2e86ffe772fa539": {
      "model_module": "@jupyter-widgets/controls",
      "model_module_version": "1.4.0",
      "model_name": "IntProgressModel",
      "state": {
       "bar_style": "danger",
       "description": "subband",
       "layout": "IPY_MODEL_46c1ac5981d3469ca242f9806781521f",
       "max": 4,
       "style": "IPY_MODEL_8baa7813329e479eafea455ff7a4a3f7"
      }
     },
     "ced828a88e5d4b8287df27a3a70bedc4": {
      "model_module": "@jupyter-widgets/controls",
      "model_module_version": "1.4.0",
      "model_name": "DescriptionStyleModel",
      "state": {
       "description_width": ""
      }
     },
     "cffc56514492441db910360cd4ed28ec": {
      "model_module": "@jupyter-widgets/controls",
      "model_module_version": "1.4.0",
      "model_name": "HBoxModel",
      "state": {
       "children": [
        "IPY_MODEL_bd0f651a1aba4034a180aad6101a86a9",
        "IPY_MODEL_3f14ca85c19b4878aec039db3f12790c"
       ],
       "layout": "IPY_MODEL_311b58e9469d4a4bad8372fd6eac782c"
      }
     },
     "d082739f10ae43738b0dcf0a8ef8d1f8": {
      "model_module": "@jupyter-widgets/controls",
      "model_module_version": "1.4.0",
      "model_name": "HTMLModel",
      "state": {
       "layout": "IPY_MODEL_8de3f9cc74f844f5a86ce3003174b233",
       "style": "IPY_MODEL_456085da8f504797bbb1fbccedb903aa",
       "value": "100% 9/9 [01:11&lt;00:00,  8.42s/it]"
      }
     },
     "d1604e7935a7421884f00b193dd2e5fb": {
      "model_module": "@jupyter-widgets/controls",
      "model_module_version": "1.4.0",
      "model_name": "IntProgressModel",
      "state": {
       "description": "compression ratio",
       "layout": "IPY_MODEL_43b3f0fa15384bc7891a782763e40f48",
       "max": 9,
       "style": "IPY_MODEL_1c3321b09d154fd49b252b785df0a7b8",
       "value": 9
      }
     },
     "d1d2c97430474635b4a33ec7b181d28a": {
      "model_module": "@jupyter-widgets/base",
      "model_module_version": "1.1.0",
      "model_name": "LayoutModel",
      "state": {}
     },
     "d2dac4ec30904e95b10afe439d07b923": {
      "model_module": "@jupyter-widgets/controls",
      "model_module_version": "1.4.0",
      "model_name": "IntProgressModel",
      "state": {
       "bar_style": "success",
       "description": "subband",
       "layout": "IPY_MODEL_bc3f0b63b51f47c0923e696ac084c0ba",
       "max": 4,
       "style": "IPY_MODEL_2dbf8aea0c6346e8b45a177b30d53b4d",
       "value": 4
      }
     },
     "d2ff5d37a0ca4bfcb93823a864742cec": {
      "model_module": "@jupyter-widgets/controls",
      "model_module_version": "1.4.0",
      "model_name": "HTMLModel",
      "state": {
       "layout": "IPY_MODEL_4a8c9c31fd6b4d499d212a24e656b015",
       "style": "IPY_MODEL_dd1df260fdc24bca943812c0f24659f8",
       "value": "  7% 317/4380 [03:28&lt;41:11,  1.64it/s]"
      }
     },
     "d32953a66b4c4a43ba1c8314f3f92824": {
      "model_module": "@jupyter-widgets/controls",
      "model_module_version": "1.4.0",
      "model_name": "DescriptionStyleModel",
      "state": {
       "description_width": ""
      }
     },
     "d3708e92bcf342329150e56862317e7e": {
      "model_module": "@jupyter-widgets/base",
      "model_module_version": "1.1.0",
      "model_name": "LayoutModel",
      "state": {}
     },
     "d4830e3c2eaa4155bcf2b0c4666e14da": {
      "model_module": "@jupyter-widgets/controls",
      "model_module_version": "1.4.0",
      "model_name": "ProgressStyleModel",
      "state": {
       "description_width": ""
      }
     },
     "d4f29eddd103430187d2fd46b232b6e8": {
      "model_module": "@jupyter-widgets/controls",
      "model_module_version": "1.4.0",
      "model_name": "HTMLModel",
      "state": {
       "layout": "IPY_MODEL_23cb5b265d834f57881149d62686cb72",
       "style": "IPY_MODEL_0e7480b7d46843b9bd8c18edf897dc8d",
       "value": "100% 1911/1911 [04:14&lt;00:00,  9.53it/s]"
      }
     },
     "d52bf61e4fc749098942a5248a077b4d": {
      "model_module": "@jupyter-widgets/base",
      "model_module_version": "1.1.0",
      "model_name": "LayoutModel",
      "state": {}
     },
     "d5e97680982f4a68920d55a3e5b01b32": {
      "model_module": "@jupyter-widgets/controls",
      "model_module_version": "1.4.0",
      "model_name": "ProgressStyleModel",
      "state": {
       "description_width": ""
      }
     },
     "d65426b00a724cbeb28e537621257a50": {
      "model_module": "@jupyter-widgets/base",
      "model_module_version": "1.1.0",
      "model_name": "LayoutModel",
      "state": {}
     },
     "d6867f3f1cb24332adb38196223a28a2": {
      "model_module": "@jupyter-widgets/controls",
      "model_module_version": "1.4.0",
      "model_name": "ProgressStyleModel",
      "state": {
       "description_width": ""
      }
     },
     "d9858b05c411448b9438d21308197fab": {
      "model_module": "@jupyter-widgets/base",
      "model_module_version": "1.1.0",
      "model_name": "LayoutModel",
      "state": {}
     },
     "d9985029816f482f959082a4d8efc860": {
      "model_module": "@jupyter-widgets/controls",
      "model_module_version": "1.4.0",
      "model_name": "ProgressStyleModel",
      "state": {
       "description_width": ""
      }
     },
     "d9cd4ae3e6b94b78b426357cfced69bd": {
      "model_module": "@jupyter-widgets/base",
      "model_module_version": "1.1.0",
      "model_name": "LayoutModel",
      "state": {}
     },
     "daa74c83356c4991a97cd084290f2df1": {
      "model_module": "@jupyter-widgets/base",
      "model_module_version": "1.1.0",
      "model_name": "LayoutModel",
      "state": {}
     },
     "dba4e62cbeed45aca2a67b3651b81783": {
      "model_module": "@jupyter-widgets/controls",
      "model_module_version": "1.4.0",
      "model_name": "HTMLModel",
      "state": {
       "layout": "IPY_MODEL_1c5c371e9ab14a809922c5f21420786f",
       "style": "IPY_MODEL_bd6c9953a5144726988cb9cdf6180cd9",
       "value": "100% 9/9 [03:55&lt;00:00, 32.25s/it]"
      }
     },
     "dbc6272112064084ac4231c42ec9c898": {
      "model_module": "@jupyter-widgets/controls",
      "model_module_version": "1.4.0",
      "model_name": "HTMLModel",
      "state": {
       "layout": "IPY_MODEL_f5e4fb5864e34380958148476189ff7d",
       "style": "IPY_MODEL_1aaa54bdd04a4830b11e15492ff33343",
       "value": "100% 9/9 [01:28&lt;00:00, 11.00s/it]"
      }
     },
     "dc48d7945f8b4c659a933b0069f7eb92": {
      "model_module": "@jupyter-widgets/controls",
      "model_module_version": "1.4.0",
      "model_name": "HTMLModel",
      "state": {
       "layout": "IPY_MODEL_7b2321182fc74cffa5a105c376d137f8",
       "style": "IPY_MODEL_019e4adaaf1448b7be07427c5a77d68f",
       "value": "  0% 0/4 [00:00&lt;?, ?it/s]"
      }
     },
     "dc4f9e419b2a47e39fd48e377238446c": {
      "model_module": "@jupyter-widgets/controls",
      "model_module_version": "1.4.0",
      "model_name": "DescriptionStyleModel",
      "state": {
       "description_width": ""
      }
     },
     "dc65e12729864f548dff4a0bf869ab43": {
      "model_module": "@jupyter-widgets/controls",
      "model_module_version": "1.4.0",
      "model_name": "ProgressStyleModel",
      "state": {
       "description_width": "initial"
      }
     },
     "dc731fa59ffe47b38c127e1227f16e15": {
      "model_module": "@jupyter-widgets/base",
      "model_module_version": "1.1.0",
      "model_name": "LayoutModel",
      "state": {}
     },
     "dcff6c449a9c4a57b472127bb97e6696": {
      "model_module": "@jupyter-widgets/controls",
      "model_module_version": "1.4.0",
      "model_name": "DescriptionStyleModel",
      "state": {
       "description_width": ""
      }
     },
     "dd03f2f2c6be404598a31f44a698c1b0": {
      "model_module": "@jupyter-widgets/controls",
      "model_module_version": "1.4.0",
      "model_name": "HTMLModel",
      "state": {
       "layout": "IPY_MODEL_038b9997be48475d80ad6461c0d06d64",
       "style": "IPY_MODEL_dcff6c449a9c4a57b472127bb97e6696",
       "value": "  0% 19/4380 [00:49&lt;46:23,  1.57it/s]"
      }
     },
     "dd1df260fdc24bca943812c0f24659f8": {
      "model_module": "@jupyter-widgets/controls",
      "model_module_version": "1.4.0",
      "model_name": "DescriptionStyleModel",
      "state": {
       "description_width": ""
      }
     },
     "df3ea39f8df04404ad1bde45d58fb3bb": {
      "model_module": "@jupyter-widgets/base",
      "model_module_version": "1.1.0",
      "model_name": "LayoutModel",
      "state": {}
     },
     "df7de832e2c44be6ba19593ffdeabb16": {
      "model_module": "@jupyter-widgets/base",
      "model_module_version": "1.1.0",
      "model_name": "LayoutModel",
      "state": {}
     },
     "dfe2bcae602745f9975498810e8f7ddc": {
      "model_module": "@jupyter-widgets/base",
      "model_module_version": "1.1.0",
      "model_name": "LayoutModel",
      "state": {}
     },
     "e0db5298fef94619ab80d2a761cc6c06": {
      "model_module": "@jupyter-widgets/controls",
      "model_module_version": "1.4.0",
      "model_name": "ProgressStyleModel",
      "state": {
       "description_width": "initial"
      }
     },
     "e107bc6fce224a3d9545eff3358c1c06": {
      "model_module": "@jupyter-widgets/controls",
      "model_module_version": "1.4.0",
      "model_name": "DescriptionStyleModel",
      "state": {
       "description_width": ""
      }
     },
     "e142651a0b324498bd5d25cc2cc09481": {
      "model_module": "@jupyter-widgets/controls",
      "model_module_version": "1.4.0",
      "model_name": "IntProgressModel",
      "state": {
       "description": "compression ratio",
       "layout": "IPY_MODEL_d52bf61e4fc749098942a5248a077b4d",
       "max": 9,
       "style": "IPY_MODEL_f8f6f0638c254074861852fc5388a601",
       "value": 9
      }
     },
     "e21fe2afe6d84e87804dbd5eec478b68": {
      "model_module": "@jupyter-widgets/base",
      "model_module_version": "1.1.0",
      "model_name": "LayoutModel",
      "state": {}
     },
     "e311d5f74f4c4c018a1c787c0147edaa": {
      "model_module": "@jupyter-widgets/controls",
      "model_module_version": "1.4.0",
      "model_name": "IntProgressModel",
      "state": {
       "description": "compression ratio",
       "layout": "IPY_MODEL_fff1879d3ee746acbd110afc18790f06",
       "max": 9,
       "style": "IPY_MODEL_4b0b287a9c564ea986ca5f9dc1afb5b1",
       "value": 9
      }
     },
     "e3e843709013484199f26da60621bd52": {
      "model_module": "@jupyter-widgets/base",
      "model_module_version": "1.1.0",
      "model_name": "LayoutModel",
      "state": {}
     },
     "e4b2a380b0f0436ca985c489668f6224": {
      "model_module": "@jupyter-widgets/controls",
      "model_module_version": "1.4.0",
      "model_name": "HTMLModel",
      "state": {
       "layout": "IPY_MODEL_b2bbd368cffa47c28886948f112d2043",
       "style": "IPY_MODEL_a7e0d225eb014ecebba830bc4da026ff",
       "value": "  0% 0/9 [00:00&lt;?, ?it/s]"
      }
     },
     "e7b13380db7b402fa06362f1f303224c": {
      "model_module": "@jupyter-widgets/base",
      "model_module_version": "1.1.0",
      "model_name": "LayoutModel",
      "state": {}
     },
     "e7c6d36913dc462cb61f3f8ecae4b980": {
      "model_module": "@jupyter-widgets/controls",
      "model_module_version": "1.4.0",
      "model_name": "HTMLModel",
      "state": {
       "layout": "IPY_MODEL_1995e590a44747d4b8c87005f06cb996",
       "style": "IPY_MODEL_073bbca9a3474c69b22233a660753a8b",
       "value": "100% 9/9 [04:06&lt;00:00, 32.52s/it]"
      }
     },
     "e8db92e96ed845b9b362325dc6b69ea8": {
      "model_module": "@jupyter-widgets/controls",
      "model_module_version": "1.4.0",
      "model_name": "IntProgressModel",
      "state": {
       "description": "compression ratio",
       "layout": "IPY_MODEL_82224f9dc05344de9dfa05d174933dc8",
       "max": 9,
       "style": "IPY_MODEL_dc65e12729864f548dff4a0bf869ab43",
       "value": 9
      }
     },
     "e90bb9f3300d4aee97e2527992072914": {
      "model_module": "@jupyter-widgets/base",
      "model_module_version": "1.1.0",
      "model_name": "LayoutModel",
      "state": {}
     },
     "e959f69da17f455592d84f62763f5ebd": {
      "model_module": "@jupyter-widgets/controls",
      "model_module_version": "1.4.0",
      "model_name": "DescriptionStyleModel",
      "state": {
       "description_width": ""
      }
     },
     "ea7173ecfbd941438a5bb720178f9d20": {
      "model_module": "@jupyter-widgets/controls",
      "model_module_version": "1.4.0",
      "model_name": "HBoxModel",
      "state": {
       "children": [
        "IPY_MODEL_19c854cde9c0476da84b28b2d2d3ba58",
        "IPY_MODEL_b6fe313cfb64478bbff1a1a28336efeb"
       ],
       "layout": "IPY_MODEL_f7f8e954894e4157bcec0224fc3570ff"
      }
     },
     "eab29c60d8a840f197da28e1c5731d71": {
      "model_module": "@jupyter-widgets/base",
      "model_module_version": "1.1.0",
      "model_name": "LayoutModel",
      "state": {}
     },
     "eb1596615f0d46beb4e5bf54d5565218": {
      "model_module": "@jupyter-widgets/base",
      "model_module_version": "1.1.0",
      "model_name": "LayoutModel",
      "state": {}
     },
     "ec7e9cc3367240febe3dde6238fad7be": {
      "model_module": "@jupyter-widgets/base",
      "model_module_version": "1.1.0",
      "model_name": "LayoutModel",
      "state": {}
     },
     "eddcde37809a446587809529fa772ea9": {
      "model_module": "@jupyter-widgets/controls",
      "model_module_version": "1.4.0",
      "model_name": "DescriptionStyleModel",
      "state": {
       "description_width": ""
      }
     },
     "ede7ef64707948e2a8a279edfb477c5c": {
      "model_module": "@jupyter-widgets/controls",
      "model_module_version": "1.4.0",
      "model_name": "DescriptionStyleModel",
      "state": {
       "description_width": ""
      }
     },
     "eed9d8a13b134b35abdb85138abb9dbe": {
      "model_module": "@jupyter-widgets/controls",
      "model_module_version": "1.4.0",
      "model_name": "ProgressStyleModel",
      "state": {
       "description_width": ""
      }
     },
     "ef9911e6ddf3474ab1a5b24b419eb954": {
      "model_module": "@jupyter-widgets/controls",
      "model_module_version": "1.4.0",
      "model_name": "HBoxModel",
      "state": {
       "children": [
        "IPY_MODEL_ce395de2435d4b60b2e86ffe772fa539",
        "IPY_MODEL_dc48d7945f8b4c659a933b0069f7eb92"
       ],
       "layout": "IPY_MODEL_a2069c0c026249b6a98496c9403cba3b"
      }
     },
     "f0631e0d220b4443a2ea894780fad806": {
      "model_module": "@jupyter-widgets/controls",
      "model_module_version": "1.4.0",
      "model_name": "HTMLModel",
      "state": {
       "layout": "IPY_MODEL_f17ce562772d4827a4f8b62527cbc809",
       "style": "IPY_MODEL_9649b5b55753442bbdb3520e79cc3f56",
       "value": "100% 9/9 [01:02&lt;00:00,  7.36s/it]"
      }
     },
     "f17ce562772d4827a4f8b62527cbc809": {
      "model_module": "@jupyter-widgets/base",
      "model_module_version": "1.1.0",
      "model_name": "LayoutModel",
      "state": {}
     },
     "f1cd98989aa642069c07519b43dc1d8c": {
      "model_module": "@jupyter-widgets/controls",
      "model_module_version": "1.4.0",
      "model_name": "HTMLModel",
      "state": {
       "layout": "IPY_MODEL_a33c12a881894f2099f11edce6849a38",
       "style": "IPY_MODEL_e959f69da17f455592d84f62763f5ebd",
       "value": "100% 9/9 [00:50&lt;00:00,  5.22s/it]"
      }
     },
     "f3ee95c4d5414d3d97b8070e1a58fef1": {
      "model_module": "@jupyter-widgets/controls",
      "model_module_version": "1.4.0",
      "model_name": "ProgressStyleModel",
      "state": {
       "description_width": "initial"
      }
     },
     "f3f94b67ebb04b7ba7481da2790fc081": {
      "model_module": "@jupyter-widgets/controls",
      "model_module_version": "1.4.0",
      "model_name": "HBoxModel",
      "state": {
       "children": [
        "IPY_MODEL_04e9e4541e014a1d9c16995fce94614c",
        "IPY_MODEL_6746b424c9004defaaaeaa77ef37ad91"
       ],
       "layout": "IPY_MODEL_82ca392b6cc044139943909bd35105f0"
      }
     },
     "f4b285754a1b40c8bbb43f02ea7abfdb": {
      "model_module": "@jupyter-widgets/controls",
      "model_module_version": "1.4.0",
      "model_name": "HTMLModel",
      "state": {
       "layout": "IPY_MODEL_8206f9f529d948ffa79111cb6abea00e",
       "style": "IPY_MODEL_230f5b1d4f3a49f5adc2977f7177455c",
       "value": "100% 112/112 [00:22&lt;00:00,  5.04it/s]"
      }
     },
     "f5c33c9783954106ae621d7e835a1f56": {
      "model_module": "@jupyter-widgets/controls",
      "model_module_version": "1.4.0",
      "model_name": "HTMLModel",
      "state": {
       "layout": "IPY_MODEL_88bc8a439eff4c06af19ec9a0a8ad938",
       "style": "IPY_MODEL_21aa3bcc12bc47a88417db1b0279ddaa",
       "value": "100% 924/924 [00:04&lt;00:00, 229.16it/s]"
      }
     },
     "f5e4fb5864e34380958148476189ff7d": {
      "model_module": "@jupyter-widgets/base",
      "model_module_version": "1.1.0",
      "model_name": "LayoutModel",
      "state": {}
     },
     "f76993cbdca3413d8ad91d491bd48958": {
      "model_module": "@jupyter-widgets/controls",
      "model_module_version": "1.4.0",
      "model_name": "HTMLModel",
      "state": {
       "layout": "IPY_MODEL_7b17e055a43a48e0bca8e81cc2c6627e",
       "style": "IPY_MODEL_a587b0eb4fdc431e994f32358f225a17",
       "value": "100% 256/256 [00:00&lt;00:00, 707.03it/s]"
      }
     },
     "f7f8e954894e4157bcec0224fc3570ff": {
      "model_module": "@jupyter-widgets/base",
      "model_module_version": "1.1.0",
      "model_name": "LayoutModel",
      "state": {}
     },
     "f8f6f0638c254074861852fc5388a601": {
      "model_module": "@jupyter-widgets/controls",
      "model_module_version": "1.4.0",
      "model_name": "ProgressStyleModel",
      "state": {
       "description_width": "initial"
      }
     },
     "fa5edef4b46a456aa1db9aded5e634d9": {
      "model_module": "@jupyter-widgets/controls",
      "model_module_version": "1.4.0",
      "model_name": "IntProgressModel",
      "state": {
       "bar_style": "success",
       "description": "subband",
       "layout": "IPY_MODEL_90ea340def124e048fa296da7e2ad307",
       "max": 4,
       "style": "IPY_MODEL_ca32ac3c46ea45eaa614f4814a5aa024",
       "value": 4
      }
     },
     "fa7274f778cb4f7fb29482b3d6ec7281": {
      "model_module": "@jupyter-widgets/controls",
      "model_module_version": "1.4.0",
      "model_name": "HTMLModel",
      "state": {
       "layout": "IPY_MODEL_df3ea39f8df04404ad1bde45d58fb3bb",
       "style": "IPY_MODEL_416f77f4c2c448f2894e80f4e7f5832d",
       "value": "  0% 0/4 [00:00&lt;?, ?it/s]"
      }
     },
     "fb47e04c7121414893e2015363e396d5": {
      "model_module": "@jupyter-widgets/base",
      "model_module_version": "1.1.0",
      "model_name": "LayoutModel",
      "state": {}
     },
     "fba33cb1d9d840bca16781f5d06e31cf": {
      "model_module": "@jupyter-widgets/controls",
      "model_module_version": "1.4.0",
      "model_name": "DescriptionStyleModel",
      "state": {
       "description_width": ""
      }
     },
     "fba55b34caa14737a749ef9e410d3d6b": {
      "model_module": "@jupyter-widgets/controls",
      "model_module_version": "1.4.0",
      "model_name": "HTMLModel",
      "state": {
       "layout": "IPY_MODEL_cda50bbf0cfb4630817bbe76e11cf064",
       "style": "IPY_MODEL_426010e00e2849289ef9759605b99e83",
       "value": "100% 924/924 [00:03&lt;00:00, 301.57it/s]"
      }
     },
     "fe44ca96a91c495abd0109074b4f8d33": {
      "model_module": "@jupyter-widgets/controls",
      "model_module_version": "1.4.0",
      "model_name": "HTMLModel",
      "state": {
       "layout": "IPY_MODEL_685ae1116aba4b0b8fe80cad54c82087",
       "style": "IPY_MODEL_93058a88dfab43d88a952e8317859b9a",
       "value": "100% 9/9 [03:50&lt;00:00, 29.85s/it]"
      }
     },
     "fecefd91aceb43359707a012f651057e": {
      "model_module": "@jupyter-widgets/base",
      "model_module_version": "1.1.0",
      "model_name": "LayoutModel",
      "state": {}
     },
     "feee5dc7db834c45ad34cc7e1eb98954": {
      "model_module": "@jupyter-widgets/controls",
      "model_module_version": "1.4.0",
      "model_name": "IntProgressModel",
      "state": {
       "description": "compression ratio",
       "layout": "IPY_MODEL_884f9b96f19f480b9e9ad5c596ef53cc",
       "max": 9,
       "style": "IPY_MODEL_f3ee95c4d5414d3d97b8070e1a58fef1",
       "value": 9
      }
     },
     "fef51e6ce08b4f9ebfc7dcee95432a04": {
      "model_module": "@jupyter-widgets/controls",
      "model_module_version": "1.4.0",
      "model_name": "IntProgressModel",
      "state": {
       "bar_style": "danger",
       "description": "compression ratio",
       "layout": "IPY_MODEL_eb1596615f0d46beb4e5bf54d5565218",
       "max": 9,
       "style": "IPY_MODEL_097331bd37fa49789e38d96c0da7667f"
      }
     },
     "fff1879d3ee746acbd110afc18790f06": {
      "model_module": "@jupyter-widgets/base",
      "model_module_version": "1.1.0",
      "model_name": "LayoutModel",
      "state": {}
     }
    },
    "version_major": 2,
    "version_minor": 0
   }
  }
 },
 "nbformat": 4,
 "nbformat_minor": 2
}
