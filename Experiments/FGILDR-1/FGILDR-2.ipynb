{
 "cells": [
  {
   "cell_type": "code",
   "execution_count": 1,
   "metadata": {
    "ExecuteTime": {
     "end_time": "2019-09-12T10:07:11.655997Z",
     "start_time": "2019-09-12T10:07:09.859998Z"
    }
   },
   "outputs": [],
   "source": [
    "import numpy as np\n",
    "import matplotlib.pyplot as mp\n",
    "import matplotlib.animation as anim\n",
    "import scipy.fftpack as fft\n",
    "import numpy.random as rand\n",
    "import sklearn.linear_model as skl\n",
    "import cvxpy as cvx\n",
    "import cv2 as cv\n",
    "from itertools import cycle\n",
    "from lbfgs import fmin_lbfgs\n",
    "from jupyterthemes import jtplot"
   ]
  },
  {
   "cell_type": "code",
   "execution_count": 15,
   "metadata": {
    "ExecuteTime": {
     "end_time": "2019-09-12T10:08:52.078712Z",
     "start_time": "2019-09-12T10:08:52.071714Z"
    }
   },
   "outputs": [],
   "source": [
    "jtplot.reset()\n",
    "mp.switch_backend(\"Qt5Agg\")\n",
    "mp.style.use(\"fast\")\n",
    "mp.rcParams[\"axes.axisbelow\"] = True\n",
    "mp.rcParams[\"text.usetex\"] = False\n",
    "mp.rcParams[\"font.family\"] = \"sans-serif\"\n",
    "mp.rcParams[\"figure.figsize\"] = (5, 5)\n",
    "mp.rcParams[\"figure.dpi\"] = 100\n",
    "mp.rcParams[\"text.latex.preamble\"] = [r\"\\usepackage{physics}\"]"
   ]
  },
  {
   "cell_type": "code",
   "execution_count": 16,
   "metadata": {
    "ExecuteTime": {
     "end_time": "2019-09-12T10:08:53.297235Z",
     "start_time": "2019-09-12T10:08:53.292233Z"
    }
   },
   "outputs": [],
   "source": [
    "def dct2(x):\n",
    "    return fft.dct(fft.dct(x.T, norm='ortho', axis=0).T, norm='ortho', axis=0)\n",
    "\n",
    "def idct2(x):\n",
    "    return fft.idct(fft.idct(x.T, norm='ortho', axis=0).T, norm='ortho', axis=0)"
   ]
  },
  {
   "cell_type": "code",
   "execution_count": 19,
   "metadata": {
    "ExecuteTime": {
     "end_time": "2019-09-12T10:09:22.394205Z",
     "start_time": "2019-09-12T10:09:22.382203Z"
    }
   },
   "outputs": [],
   "source": [
    "class PulsateSine:\n",
    "    \n",
    "    def __init__(self, N, freq, pulse_period):\n",
    "        self.f = freq\n",
    "        self.N = N\n",
    "        self.pulse_period = pulse_period\n",
    "        self.count = 0\n",
    "        self.alpha_val = [0, 1]\n",
    "        self.alpha_idx = 0\n",
    "        \n",
    "    def continue_loop(self):\n",
    "        for i in cycle(self.alpha_val):\n",
    "            self.alpha_idx = i\n",
    "            self.count += 1\n",
    "            yield self.count\n",
    "            \n",
    "    def update(self, continue_loop):\n",
    "        self.im.set_alpha(self.alpha_idx)\n",
    "        self.alpha_idx += 1\n",
    "        return self.im\n",
    "            \n",
    "    def run(self):\n",
    "        t = np.linspace(0, 1, self.N)\n",
    "        Tx, Ty = np.meshgrid(t, t)\n",
    "        self.A = np.sin(2*np.pi*self.f*(Tx - Ty))\n",
    "        \n",
    "        self.fig = mp.figure()\n",
    "        self.ax = self.fig.add_subplot(111)\n",
    "        self.im = self.ax.imshow(self.A, alpha=self.alpha_idx, cmap='gray', origin='lower')\n",
    "        self.ax.grid(0)\n",
    "        \n",
    "        ani = anim.FuncAnimation(self.fig, self.update, self.continue_loop, \n",
    "                                 interval=1000, repeat_delay=0)\n",
    "        mp.tight_layout()\n",
    "        mp.show(block=1)"
   ]
  },
  {
   "cell_type": "code",
   "execution_count": 20,
   "metadata": {
    "ExecuteTime": {
     "end_time": "2019-09-12T10:09:33.732670Z",
     "start_time": "2019-09-12T10:09:22.738707Z"
    }
   },
   "outputs": [],
   "source": [
    "PulsateSine(100, 4, 0).run()"
   ]
  },
  {
   "cell_type": "code",
   "execution_count": null,
   "metadata": {},
   "outputs": [],
   "source": []
  }
 ],
 "metadata": {
  "kernelspec": {
   "display_name": "Python 3",
   "language": "python",
   "name": "python3"
  },
  "language_info": {
   "codemirror_mode": {
    "name": "ipython",
    "version": 3
   },
   "file_extension": ".py",
   "mimetype": "text/x-python",
   "name": "python",
   "nbconvert_exporter": "python",
   "pygments_lexer": "ipython3",
   "version": "3.6.9"
  },
  "latex_envs": {
   "LaTeX_envs_menu_present": true,
   "autoclose": true,
   "autocomplete": false,
   "bibliofile": "biblio.bib",
   "cite_by": "apalike",
   "current_citInitial": 1,
   "eqLabelWithNumbers": true,
   "eqNumInitial": 1,
   "hotkeys": {
    "equation": "Ctrl-E",
    "itemize": "Ctrl-I"
   },
   "labels_anchors": false,
   "latex_user_defs": false,
   "report_style_numbering": false,
   "user_envs_cfg": false
  },
  "varInspector": {
   "cols": {
    "lenName": 16,
    "lenType": 16,
    "lenVar": 40
   },
   "kernels_config": {
    "python": {
     "delete_cmd_postfix": "",
     "delete_cmd_prefix": "del ",
     "library": "var_list.py",
     "varRefreshCmd": "print(var_dic_list())"
    },
    "r": {
     "delete_cmd_postfix": ") ",
     "delete_cmd_prefix": "rm(",
     "library": "var_list.r",
     "varRefreshCmd": "cat(var_dic_list()) "
    }
   },
   "types_to_exclude": [
    "module",
    "function",
    "builtin_function_or_method",
    "instance",
    "_Feature"
   ],
   "window_display": false
  }
 },
 "nbformat": 4,
 "nbformat_minor": 2
}
